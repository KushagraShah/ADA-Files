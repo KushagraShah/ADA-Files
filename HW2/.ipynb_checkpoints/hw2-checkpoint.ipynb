{
 "cells": [
  {
   "cell_type": "markdown",
   "metadata": {},
   "source": [
    "# Homework 2 (HW2)\n",
    "\n",
    "---\n",
    "By the end of this homework we expect you to be able to:\n",
    "1. Preprocess data and make it amenable to statistical analysis and machine learning models;\n",
    "2. Train and test out-of-the-box machine learning models in Python;\n",
    "3. Carry out statistical hypothesis testing;\n",
    "4. Carry out simple multivariate regression analyses;\n",
    "5. Use techniques to control for covariates;\n",
    "---\n",
    "\n",
    "## Important Dates\n",
    "\n",
    "- Homework release: Fri 6 Nov 2020\n",
    "- **Homework due**: Fri 20 Nov 2020, 23:59\n",
    "- Grade release: Mon 30 Nov 2020\n",
    "\n",
    "---\n",
    "\n",
    "##  Some rules\n",
    "\n",
    "1. You are allowed to use any built-in Python library that comes with Anaconda. If you want to use an external library, you have to justify your choice.\n",
    "2. Make sure you use the data folder provided in the repository in **read-only** mode.\n",
    "3. Be sure to provide a textual description of your thought process, the assumptions you made, the solution you implemented, and explanations for your answers. A notebook that only has code cells will not suffice.\n",
    "4. For questions containing the **/Discuss:/** prefix, answer not with code, but with a textual explanation (in markdown).\n",
    "5. Back up any hypotheses and claims with data, since this is an important aspect of the course.\n",
    "6. Please write all your comments in English, and use meaningful variable names in your code. Your repo should have a single notebook (plus the required data files) in the master branch. If there are multiple notebooks present, we will **strictly** not grade anything.\n",
    "7. Also, be sure to hand in a fully-run and evaluated notebook. We will not run your notebook for you, we will grade it as is, which means that only the results contained in your evaluated code cells will be considered, and we will not see the results in unevaluated code cells. In order to check whether everything looks as intended, you can check the rendered notebook on the GitHub website once you have pushed your solution there.\n",
    "8. Make sure to print results or dataframes that confirm you have properly addressed the task.\n",
    "9. Lastly, the grading is done in the *double blind* mode, i.e., the TAs grades an anonymized version of your notebook, so make sure that your notebook **neither has your team name nor the names of the members**.\n",
    "\n",
    "## Context\n",
    "\n",
    "Publishing papers is a big part of the lives of [Ph.D. students](http://phdcomics.com/comics/archive.php?comicid=154), [post-docs](http://phdcomics.com/comics/archive.php?comicid=1744) and [professors](http://phdcomics.com/comics/archive.php?comicid=1051). \n",
    "In Computer Science, publishing happens mostly in conferences. What follows is a slight simplification of how these conferences decide which papers to accept and which papers to reject.\n",
    " \n",
    "Every year, scholars submit papers to prestigious conferences. The papers are then assigned to reviewers (usually around 3), who are other people from the same research community (respect thy neighbor!). Each reviewer weighs in on whether they believe the papers they were assigned are good or bad, and write a review, often along with a score (e.g. +3 Strong Accept, +2 Accept, +1 Weak Accept, 0 Borderline, …,  -3 Strong Reject). Then, in the end, \"special\" reviewers called, \"Area Chairs\" analyze all the reviews that were written for the same paper and decide what gets accepted and what gets rejected. Importantly, throughout this whole dance, reviewers and authors are anonymous. When you're reviewing a paper, you do not know who wrote it. And when you receive the review, you don't know who reviewed it. Because of that, we call this a double-blind reviewing process.\n",
    "\n",
    "An interesting development that has evolved in recent years is the rise of pre-prints. In previous times, researchers often exposed their research to the world only after it had been peer-reviewed and published in a conference or a journal. But recently researchers are much keener to let their ideas out into the world as soon as possible, and they publish their research before it has been approved to any conference or journal, by posting the research on so-called pre-print servers. The most common pre-print server for Computer Science, Physics, and Maths is called [arXiv](https://arxiv.org/), for Biology, an increasingly popular one is [bioRxiv](https://www.biorxiv.org/), for Psychology [psyArXiv](https://psyarxiv.com/) (they are not very creative with the names). Notice that pre-prints and peer-review are not mutually exclusive, in fact, usually, you publish your pre-print, and then you try to publish your work in a peer-reviewed setting.\n",
    "\n",
    "Overall, publishing pre-prints has many benefits. They make science more accessible and hasten the circulation of important results in the academic community. However, a big issue brought forth with pre-prints is that they often break the anonymity in the double-blind reviewing process. For instance, in machine learning, since most papers are published as pre-prints, it is often easy to figure out if the paper you are reviewing is from a famous researcher or a big company with prominent research scientists. From critics' viewpoint, knowing the authors of the papers you are reviewing can bias your reviews. If you know that a given author is famous, you'd be more inclined to take his or her word for granted. If the author is from an institution you’ve never heard about, you are more likely to doubt his or her findings.\n",
    "\n",
    "In this homework, we will take a data-driven deep dive into the world of academic publishing. Can you use your freshly acquired data-science skills to predict which papers are going to make the cut? Are your data analysis skills sharp enough to figure out whether the aforementioned concerns about pre-print issues are justified?\n",
    "\n",
    "\n",
    "## The data\n",
    "\n",
    "The data, whose source has been *\"double-blinded\"* from you, and which has been simplified a bit for the assignment, contains information about submissions to a prestigious machine learning conference called ICLR (pronounced “I-clear”). You can find the dataframe in the git repo for the homework (`./data/dataset_final.csv`). We provide a brief description of the fields you will encounter.\n",
    "\n",
    "- `year`: year the paper has been submitted to ICLR. Notice that we provide data for three years, 2018, 2019, and 2020.\n",
    "\n",
    "\n",
    "- `paper`: title of the paper.\n",
    "\n",
    "\n",
    "- `authors`: names of the authors separated by ;.\n",
    "\n",
    "\n",
    "- `ratings`: mean rating given to the paper by the reviewers.\n",
    "\n",
    "\n",
    "- `decisions`: either Accept if the paper was accepted, or Reject otherwise.\n",
    "\n",
    "\n",
    "- `institution`: institutions for each of the authors, separated by ;.\n",
    "\n",
    "\n",
    "- `csranking`: ranking of the institutions according to csrankings. The better the institution, the better the rank. Notice that, if a paper has more than 1 author, this field will contain multiple values, separated by ;. For institutions that are not in csrankings, the value will be -1.\n",
    "\n",
    "\n",
    "- `categories`: topical categories of the paper. Each number corresponds to a different category: (1) Theory, (2) Computer Vision, (3) Natural Language Processing, (4) Adversarial ML, (5) Generative Modeling, (7) Fairness, (8) Generalization, (9) Optimization, (10) Graphs, (11) Bayesian Methods, (0) Others. A paper may belong to multiple categories, separated by ;.\n",
    "\n",
    "\n",
    "- `authors_citations`: number of citations of each one of the authors, separated by ;.\n",
    "\n",
    "\n",
    "- `authors_publications`: number of publications by each one of the authors, separated by ;.\n",
    "\n",
    "\n",
    "- `authors_hindex`: h-index of each one of the authors, separated by ;. The h-index is an author-level metric that measures both the productivity and citation impact of the publications of a scientist or scholar. It is the maximum value $h$ such that the given author has published $h$ papers that have each been cited at least $h$ times.\n",
    "\n",
    "\n",
    "- `arxiv`: whether the paper was spotted in a pre-print server around the submission period.\n",
    "\n",
    "Also, notice that in this dataframe, when some piece of data was not available, -1 will be used as the value. For example, companies aren't a part of csrankings, so for people who work in big companies, the values are -1 in the field csranking.\n"
   ]
  },
  {
   "cell_type": "markdown",
   "metadata": {},
   "source": [
    "## _Step 1:_ Predicting paper ratings\n",
    "\n",
    "The first part of this homework poses a simple question: Can you predict the ratings the paper will receive given attributes related to its authors? To answer this question, we will build an ML pipeline from scratch, preprocessing the data, training a regression model, and then evaluating it.\n",
    "\n",
    "\n",
    "---\n",
    "\n",
    "### Task 1.1\n",
    "\n",
    "Some of the fields in the data are not very amenable to serve as input to traditional machine learning algorithms. Namely, we have some fields for which there are a varying number of values (e.g. papers with 3 authors will have 3 values in the `author_citations` field, papers with 5 authors will have 5).\n",
    "\n",
    "\n",
    "Your first task is to perform some feature engineering and derive unique values for each paper which you will be able to use in your ML model. \n",
    "More specifically, you must:\n",
    "\n",
    "1. Create 3 new fields in the dataframe corresponding to the median value of the number of citations per author, the number of publications per author, and the h-index per author. So for instance, for the row `authors_publications`, you will create an additional column, e.g. `authors_publications_median`, containing the median number of publications per author in each paper.\n",
    "\n",
    "\n",
    "2. Create another field entitled `reputation` capturing how famous the last author of the paper is. Notice that the last author of the paper is usually the most senior person involved in the project. This field should equal $\\log_{10}\\Big(\\frac{\\#citations}{\\#publications} + 1\\Big)$. Notice that each author in the dataset has at least 1 publication, so you don't risk dividing by 0.\n",
    "\n",
    "\n",
    "3. Create two fields called `has_top_company` and `has_top_institution`. The field `has_top_company` equals 1 if the article contains an author in the following list of companies `[\"Facebook\", \"Google\", \"Microsoft\", \"Deepmind\"]`, and 0 otherwise. The field `has_top_institution` equals 1 if the article contains an author in the top 10 institutions according to CSRankings.\n",
    "\n",
    "\n",
    "4. **Discuss:** How did you handle -1 values in item 1.1.1? Justify your approach.\n",
    "\n",
    "---"
   ]
  },
  {
   "cell_type": "markdown",
   "metadata": {},
   "source": [
    "__1.1.1__"
   ]
  },
  {
   "cell_type": "code",
   "execution_count": 1,
   "metadata": {},
   "outputs": [],
   "source": [
    "import pandas as pd\n",
    "import numpy as np\n",
    "import math\n",
    "\n",
    "# Note: We are handling the missing data here\n",
    "# If we encounter a (-1), we skip the value\n",
    "def compute_median(s):\n",
    "    nums = s.split(sep=';')\n",
    "    return np.median([int(i) for i in nums if i != '-1'])\n",
    "\n",
    "# Load data\n",
    "publication = pd.read_csv(\"data/dataset_final.csv\")\n",
    "\n",
    "# Find median value\n",
    "publication['authors_publications_median'] = [compute_median(i) for i in publication['authors_publications']]\n",
    "publication['authors_citations_median'] = [compute_median(i) for i in publication['authors_citations']]\n",
    "publication['authors_hindex_median'] = [compute_median(i) for i in publication['authors_hindex']]"
   ]
  },
  {
   "cell_type": "markdown",
   "metadata": {},
   "source": [
    "Please also refer to 1.1.4 for an explanation of how missing data is handled."
   ]
  },
  {
   "cell_type": "markdown",
   "metadata": {},
   "source": [
    "__1.1.2__"
   ]
  },
  {
   "cell_type": "code",
   "execution_count": 2,
   "metadata": {},
   "outputs": [
    {
     "name": "stdout",
     "output_type": "stream",
     "text": [
      "Number of missing values (-1) in last author publications: 0\n",
      "Number of missing values (-1) in last author citations: 0\n"
     ]
    }
   ],
   "source": [
    "# Check how many papers have missing publications value for the last author\n",
    "count_mlap = 0\n",
    "for i in range(publication.shape[0]):\n",
    "    if publication.authors_publications[i].split(sep=';')[-1]=='-1':\n",
    "        count_mlap += 1\n",
    "print('Number of missing values (-1) in last author publications:', count_mlap)\n",
    "\n",
    "# Check how many papers have missing citations value for the last author\n",
    "count_mlac = 0\n",
    "for i in range(publication.shape[0]):\n",
    "    if publication.authors_citations[i].split(sep=';')[-1]=='-1':\n",
    "        count_mlac += 1\n",
    "print('Number of missing values (-1) in last author citations:', count_mlac)"
   ]
  },
  {
   "cell_type": "markdown",
   "metadata": {},
   "source": [
    "Since there are no missing values in the number of publications and citations of the last author for any paper in the dataset, we can compute the `reputation` of last author for each paper without errors."
   ]
  },
  {
   "cell_type": "code",
   "execution_count": 3,
   "metadata": {},
   "outputs": [],
   "source": [
    "def compute_reputation(cite, publicate):\n",
    "    return math.log(int(cite.split(sep=';')[-1]) / int(publicate.split(sep=';')[-1]) + 1, 10)\n",
    "\n",
    "# Compute reputation of last author\n",
    "publication['reputation'] = [compute_reputation(i, j) for i,j in zip(publication['authors_citations'],\n",
    "                                                                     publication['authors_publications'])]"
   ]
  },
  {
   "cell_type": "markdown",
   "metadata": {},
   "source": [
    "__1.1.3__"
   ]
  },
  {
   "cell_type": "code",
   "execution_count": 4,
   "metadata": {},
   "outputs": [],
   "source": [
    "def is_top_company(s):\n",
    "    companies = s.split(sep=';')\n",
    "    for company in companies:\n",
    "        if company in [\"Facebook\", \"Google\", \"Microsoft\", \"Deepmind\"]:\n",
    "            return 1\n",
    "    return 0\n",
    "\n",
    "def is_top_institution(s):\n",
    "    institutions = [int(i) for i in s.split(sep=';')]\n",
    "    for institution in institutions:\n",
    "        if institution <= 10:\n",
    "            return 1\n",
    "    return 0\n",
    "\n",
    "# Find the top companies and top institutions\n",
    "publication['has_top_company'] = [is_top_company(i) for i in publication['institution']]\n",
    "publication['has_top_institution'] = [is_top_institution(i) for i in publication['csranking']]"
   ]
  },
  {
   "cell_type": "markdown",
   "metadata": {},
   "source": [
    "__1.1.4__"
   ]
  },
  {
   "cell_type": "code",
   "execution_count": 5,
   "metadata": {},
   "outputs": [
    {
     "name": "stdout",
     "output_type": "stream",
     "text": [
      "Number of missing values (-1) in 'authors_publications': 104\n",
      "Number of paper with only missing values (-1) in 'authors_publications': 0\n",
      "Number of missing values (-1) in 'authors_citations': 104\n",
      "Number of paper with only missing values (-1) in 'authors_citations': 0\n",
      "Number of missing values (-1) in 'authors_hindex': 104\n",
      "Number of paper with only missing values (-1) in 'authors_hindex': 0\n"
     ]
    }
   ],
   "source": [
    "# Checking missing values in author publications\n",
    "count_map = 0\n",
    "count_pmap = 0\n",
    "for i in range(publication.shape[0]):\n",
    "    nums = publication.authors_publications[i].split(sep=';')\n",
    "    temp = count_map\n",
    "    for j in range(len(nums)):\n",
    "        if nums[j]=='-1':\n",
    "            count_map += 1\n",
    "    if count_map-temp == len(nums):\n",
    "        count_pmap +=1\n",
    "print('Number of missing values (-1) in \\'authors_publications\\':', count_map)\n",
    "print('Number of paper with only missing values (-1) in \\'authors_publications\\':', count_pmap)\n",
    "\n",
    "# Checking missing values in author citations\n",
    "count_mac = 0\n",
    "count_pmac= 0\n",
    "for i in range(publication.shape[0]):\n",
    "    nums = publication.authors_citations[i].split(sep=';')\n",
    "    temp = count_mac\n",
    "    for j in range(len(nums)):\n",
    "        if nums[j]=='-1':\n",
    "            count_mac += 1\n",
    "    if count_mac-temp == len(nums):\n",
    "        count_pmac +=1\n",
    "print('Number of missing values (-1) in \\'authors_citations\\':', count_mac)\n",
    "print('Number of paper with only missing values (-1) in \\'authors_citations\\':', count_pmac)\n",
    "\n",
    "# Checking missing values in author h-indices\n",
    "count_mah = 0\n",
    "count_pmah = 0\n",
    "for i in range(publication.shape[0]):\n",
    "    nums = publication.authors_hindex[i].split(sep=';')\n",
    "    temp = count_mah\n",
    "    for j in range(len(nums)):\n",
    "        if nums[j]=='-1':\n",
    "            count_mah += 1\n",
    "    if count_mah-temp == len(nums):\n",
    "        count_pmah +=1\n",
    "print('Number of missing values (-1) in \\'authors_hindex\\':', count_mah)\n",
    "print('Number of paper with only missing values (-1) in \\'authors_hindex\\':', count_pmah)"
   ]
  },
  {
   "cell_type": "markdown",
   "metadata": {},
   "source": [
    "We observe that there are several missing values (-1) in the features: 104 in `authors_publications`, 104 in `authors_citations` and 104 in `authors_hindex` (a further analysis shows that if a author has a missing value in `authors_publications` then he has missing values also in `authors_citations` and `authors_hindex`). However, since no paper has missing values in these three features for all its authors, we can compute the median of the elements of each of these three features ignoring the missing values. This is exactly the same of replacing the missing values with the median and then computing the three new features."
   ]
  },
  {
   "cell_type": "code",
   "execution_count": 6,
   "metadata": {},
   "outputs": [
    {
     "data": {
      "text/html": [
       "<div>\n",
       "<style scoped>\n",
       "    .dataframe tbody tr th:only-of-type {\n",
       "        vertical-align: middle;\n",
       "    }\n",
       "\n",
       "    .dataframe tbody tr th {\n",
       "        vertical-align: top;\n",
       "    }\n",
       "\n",
       "    .dataframe thead th {\n",
       "        text-align: right;\n",
       "    }\n",
       "</style>\n",
       "<table border=\"1\" class=\"dataframe\">\n",
       "  <thead>\n",
       "    <tr style=\"text-align: right;\">\n",
       "      <th></th>\n",
       "      <th>year</th>\n",
       "      <th>paper</th>\n",
       "      <th>authors</th>\n",
       "      <th>ratings</th>\n",
       "      <th>decisions</th>\n",
       "      <th>institution</th>\n",
       "      <th>csranking</th>\n",
       "      <th>categories</th>\n",
       "      <th>authors_citations</th>\n",
       "      <th>authors_publications</th>\n",
       "      <th>authors_hindex</th>\n",
       "      <th>arxiv</th>\n",
       "      <th>authors_publications_median</th>\n",
       "      <th>authors_citations_median</th>\n",
       "      <th>authors_hindex_median</th>\n",
       "      <th>reputation</th>\n",
       "      <th>has_top_company</th>\n",
       "      <th>has_top_institution</th>\n",
       "    </tr>\n",
       "  </thead>\n",
       "  <tbody>\n",
       "    <tr>\n",
       "      <th>0</th>\n",
       "      <td>2018</td>\n",
       "      <td>Certifying Some Distributional Robustness with...</td>\n",
       "      <td>Aman Sinha;Hongseok Namkoong;John Duchi</td>\n",
       "      <td>9.000000</td>\n",
       "      <td>Accept</td>\n",
       "      <td>Stanford University;Stanford University;Stanfo...</td>\n",
       "      <td>4;4;4</td>\n",
       "      <td>4</td>\n",
       "      <td>655;904;12908</td>\n",
       "      <td>42;19;162</td>\n",
       "      <td>8;10;42</td>\n",
       "      <td>True</td>\n",
       "      <td>42.0</td>\n",
       "      <td>904.0</td>\n",
       "      <td>10.0</td>\n",
       "      <td>1.906761</td>\n",
       "      <td>0</td>\n",
       "      <td>1</td>\n",
       "    </tr>\n",
       "    <tr>\n",
       "      <th>1</th>\n",
       "      <td>2018</td>\n",
       "      <td>Parametric Information Bottleneck to Optimize ...</td>\n",
       "      <td>Thanh T. Nguyen;Jaesik Choi</td>\n",
       "      <td>4.666667</td>\n",
       "      <td>Reject</td>\n",
       "      <td>Ulsan National Institute of Science and Techno...</td>\n",
       "      <td>468;468</td>\n",
       "      <td>8</td>\n",
       "      <td>1052;727</td>\n",
       "      <td>86;88</td>\n",
       "      <td>16;15</td>\n",
       "      <td>False</td>\n",
       "      <td>87.0</td>\n",
       "      <td>889.5</td>\n",
       "      <td>15.5</td>\n",
       "      <td>0.966675</td>\n",
       "      <td>0</td>\n",
       "      <td>0</td>\n",
       "    </tr>\n",
       "    <tr>\n",
       "      <th>2</th>\n",
       "      <td>2018</td>\n",
       "      <td>Towards Neural Phrase-based Machine Translation</td>\n",
       "      <td>Po-Sen Huang;Chong Wang;Sitao Huang;Dengyong Z...</td>\n",
       "      <td>6.666667</td>\n",
       "      <td>Accept</td>\n",
       "      <td>Microsoft;Google;University of Illinois, Urban...</td>\n",
       "      <td>-1;-1;3;-1;-1</td>\n",
       "      <td>3;2</td>\n",
       "      <td>1718;17889;161;8800;20766</td>\n",
       "      <td>59;1045;17;78;409</td>\n",
       "      <td>17;54;7;33;63</td>\n",
       "      <td>True</td>\n",
       "      <td>78.0</td>\n",
       "      <td>8800.0</td>\n",
       "      <td>33.0</td>\n",
       "      <td>1.714100</td>\n",
       "      <td>1</td>\n",
       "      <td>1</td>\n",
       "    </tr>\n",
       "    <tr>\n",
       "      <th>3</th>\n",
       "      <td>2018</td>\n",
       "      <td>Interactive Grounded Language Acquisition and ...</td>\n",
       "      <td>Haonan Yu;Haichao Zhang;Wei Xu</td>\n",
       "      <td>6.333333</td>\n",
       "      <td>Accept</td>\n",
       "      <td>Baidu;Baidu;Baidu</td>\n",
       "      <td>-1;-1;-1</td>\n",
       "      <td>6;8</td>\n",
       "      <td>890;1382;9553</td>\n",
       "      <td>37;63;557</td>\n",
       "      <td>12;20;44</td>\n",
       "      <td>False</td>\n",
       "      <td>63.0</td>\n",
       "      <td>1382.0</td>\n",
       "      <td>20.0</td>\n",
       "      <td>1.258896</td>\n",
       "      <td>0</td>\n",
       "      <td>1</td>\n",
       "    </tr>\n",
       "    <tr>\n",
       "      <th>4</th>\n",
       "      <td>2018</td>\n",
       "      <td>A Boo(n) for Evaluating Architecture Performance</td>\n",
       "      <td>Ondrej Bajgar;Rudolf Kadlec;and Jan Kleindienst</td>\n",
       "      <td>4.666667</td>\n",
       "      <td>Reject</td>\n",
       "      <td>;International Business Machines;International...</td>\n",
       "      <td>-1;-1;-1</td>\n",
       "      <td>0</td>\n",
       "      <td>366;678;658</td>\n",
       "      <td>10;40;76</td>\n",
       "      <td>5;11;9</td>\n",
       "      <td>False</td>\n",
       "      <td>40.0</td>\n",
       "      <td>658.0</td>\n",
       "      <td>9.0</td>\n",
       "      <td>0.984882</td>\n",
       "      <td>0</td>\n",
       "      <td>1</td>\n",
       "    </tr>\n",
       "  </tbody>\n",
       "</table>\n",
       "</div>"
      ],
      "text/plain": [
       "   year                                              paper  \\\n",
       "0  2018  Certifying Some Distributional Robustness with...   \n",
       "1  2018  Parametric Information Bottleneck to Optimize ...   \n",
       "2  2018    Towards Neural Phrase-based Machine Translation   \n",
       "3  2018  Interactive Grounded Language Acquisition and ...   \n",
       "4  2018   A Boo(n) for Evaluating Architecture Performance   \n",
       "\n",
       "                                             authors   ratings decisions  \\\n",
       "0            Aman Sinha;Hongseok Namkoong;John Duchi  9.000000    Accept   \n",
       "1                        Thanh T. Nguyen;Jaesik Choi  4.666667    Reject   \n",
       "2  Po-Sen Huang;Chong Wang;Sitao Huang;Dengyong Z...  6.666667    Accept   \n",
       "3                     Haonan Yu;Haichao Zhang;Wei Xu  6.333333    Accept   \n",
       "4    Ondrej Bajgar;Rudolf Kadlec;and Jan Kleindienst  4.666667    Reject   \n",
       "\n",
       "                                         institution      csranking  \\\n",
       "0  Stanford University;Stanford University;Stanfo...          4;4;4   \n",
       "1  Ulsan National Institute of Science and Techno...        468;468   \n",
       "2  Microsoft;Google;University of Illinois, Urban...  -1;-1;3;-1;-1   \n",
       "3                                  Baidu;Baidu;Baidu       -1;-1;-1   \n",
       "4  ;International Business Machines;International...       -1;-1;-1   \n",
       "\n",
       "  categories          authors_citations authors_publications authors_hindex  \\\n",
       "0          4              655;904;12908            42;19;162        8;10;42   \n",
       "1          8                   1052;727                86;88          16;15   \n",
       "2        3;2  1718;17889;161;8800;20766    59;1045;17;78;409  17;54;7;33;63   \n",
       "3        6;8              890;1382;9553            37;63;557       12;20;44   \n",
       "4          0                366;678;658             10;40;76         5;11;9   \n",
       "\n",
       "   arxiv  authors_publications_median  authors_citations_median  \\\n",
       "0   True                         42.0                     904.0   \n",
       "1  False                         87.0                     889.5   \n",
       "2   True                         78.0                    8800.0   \n",
       "3  False                         63.0                    1382.0   \n",
       "4  False                         40.0                     658.0   \n",
       "\n",
       "   authors_hindex_median  reputation  has_top_company  has_top_institution  \n",
       "0                   10.0    1.906761                0                    1  \n",
       "1                   15.5    0.966675                0                    0  \n",
       "2                   33.0    1.714100                1                    1  \n",
       "3                   20.0    1.258896                0                    1  \n",
       "4                    9.0    0.984882                0                    1  "
      ]
     },
     "execution_count": 6,
     "metadata": {},
     "output_type": "execute_result"
    }
   ],
   "source": [
    "# For reference\n",
    "publication.head()"
   ]
  },
  {
   "cell_type": "markdown",
   "metadata": {},
   "source": [
    "### Task 1.2\n",
    "\n",
    "Now that you have cleaned up your data, your next task is to divide your data into a training set and a testing set. You should do this in two ways:\n",
    "\n",
    "1. First, do it randomly. Split the data into a training set (70%) and a testing set (30%). We refer to these as \"random split\" in the subsequent tasks.\n",
    "\n",
    "\n",
    "2. Second, do it longitudinally. Use the data from 2018 and 2019 for the training set, and the data from 2020 as the testing set. We refer to these as \"longitudinal split\" in the subsequent tasks.\n"
   ]
  },
  {
   "cell_type": "markdown",
   "metadata": {},
   "source": [
    "__1.2.1__"
   ]
  },
  {
   "cell_type": "code",
   "execution_count": 7,
   "metadata": {},
   "outputs": [
    {
     "name": "stdout",
     "output_type": "stream",
     "text": [
      "Training set size: 2979\n",
      "Testing set size: 1277\n"
     ]
    }
   ],
   "source": [
    "# Random split\n",
    "publication_random_train = publication.sample(frac=0.7,random_state=200)\n",
    "publication_random_test = publication.drop(publication_random_train.index)\n",
    "\n",
    "print(\"Training set size: {}\".format(publication_random_train.shape[0]))\n",
    "print(\"Testing set size: {}\".format(publication_random_test.shape[0]))"
   ]
  },
  {
   "cell_type": "markdown",
   "metadata": {},
   "source": [
    "__1.2.2__"
   ]
  },
  {
   "cell_type": "code",
   "execution_count": 8,
   "metadata": {},
   "outputs": [
    {
     "name": "stdout",
     "output_type": "stream",
     "text": [
      "Training set size: 2204\n",
      "Testing set size: 2052\n"
     ]
    }
   ],
   "source": [
    "# longitudinal split\n",
    "publication_long_train = publication[publication['year'].isin([2018, 2019])]\n",
    "publication_long_test = publication[publication['year'].isin([2020])]\n",
    "\n",
    "print(\"Training set size: {}\".format(publication_long_train.shape[0]))\n",
    "print(\"Testing set size: {}\".format(publication_long_test.shape[0]))"
   ]
  },
  {
   "cell_type": "markdown",
   "metadata": {},
   "source": [
    "### Task 1.3\n",
    "\n",
    "Build a Linear Regression model (use [sklearn](https://scikit-learn.org/stable/)) that predicts the score of a paper (which is in the variable ratings in the dataframe). Train it and test it using the split you previously defined. Your model should use as features:\n",
    "- median values the number of author citations, publications and h-indexes, as calculated in Task 1.1.1.\n",
    "\n",
    "- `reputation` of the last author, as calculated in Task 1.1.2.\n",
    "\n",
    "For the two scenarios above (random split and longitudinal split):\n",
    "\n",
    "1. Report the model $R^2$ in each case (for the testing set).\n",
    "\n",
    "\n",
    "2. **Discuss:** Hypothesize a reason why the results are different. Additionally, interpret the $R^2$ value for the longitudinal split. How can it be negative?\n",
    "\n",
    "**From now onwards (in this task and the following ones), consider only the random split.**\n",
    "\n",
    "\n",
    "3. For a given entry $X$ your model outputs a predicted score $Y'$. The difference between the real score $Y$ and the predicted score $Y'$ is called the \"residual\". Plot the distribution of your residuals for the test set. Using this distribution, estimate what is the probability that your prediction is off by more than 2-points? Provide bootstrapped confidence intervals for your answer.\n",
    "\n",
    "\n",
    "4. **Discuss:** Identify three additional features that are already computed in your dataframe and that could boost your model's predictive performance. You are not allowed to use the variable `decisions` as an input here. Before running any experiments, discuss why each of these features might add valuable information to your model.\n",
    "\n",
    "\n",
    "5. Report the($R^2$ for the test set) for a newly trained model with these additional features. Please note that you do not need to improve the model performance to be successful in this task!\n",
    "\n",
    "**Hint**: [Metrics!](https://scikit-learn.org/stable/modules/classes.html#sklearn-metrics-metrics)\n"
   ]
  },
  {
   "cell_type": "markdown",
   "metadata": {},
   "source": [
    "__1.3.1__"
   ]
  },
  {
   "cell_type": "code",
   "execution_count": 9,
   "metadata": {},
   "outputs": [
    {
     "name": "stdout",
     "output_type": "stream",
     "text": [
      "R_squared for random split: 0.0936\n",
      "R_squared for longitudinal split: -0.2401\n"
     ]
    }
   ],
   "source": [
    "from sklearn.linear_model import LinearRegression\n",
    "from sklearn.metrics import r2_score\n",
    "\n",
    "# Select features for scenario 1 - random split\n",
    "feature_cols = ['authors_publications_median', 'authors_citations_median', 'authors_hindex_median', 'reputation']\n",
    "X_random_train = publication_random_train[feature_cols]\n",
    "y_random_train = publication_random_train.ratings\n",
    "X_random_test = publication_random_test[feature_cols]\n",
    "y_random_test = publication_random_test.ratings\n",
    "\n",
    "# Train the model\n",
    "lr = LinearRegression() \n",
    "lr.fit(X_random_train, y_random_train) \n",
    "\n",
    "# Test the model\n",
    "predict_random = lr.predict(X_random_test)\n",
    "r2_random = r2_score(y_random_test, predict_random)\n",
    "\n",
    "# Select features for scenario 2 - longitudinal split\n",
    "X_long_train = publication_long_train[feature_cols]\n",
    "y_long_train = publication_long_train.ratings\n",
    "X_long_test = publication_long_test[feature_cols]\n",
    "y_long_test = publication_long_test.ratings\n",
    "\n",
    "# Train the model\n",
    "lr = LinearRegression() \n",
    "lr.fit(X_long_train, y_long_train) \n",
    "\n",
    "# Test the model\n",
    "predict_long = lr.predict(X_long_test)\n",
    "r2_long = r2_score(y_long_test, predict_long)\n",
    "\n",
    "print(\"R_squared for random split: {0:.4f}\".format(r2_random))\n",
    "print(\"R_squared for longitudinal split: {0:.4f}\".format(r2_long))"
   ]
  },
  {
   "cell_type": "markdown",
   "metadata": {},
   "source": [
    "__1.3.2__\n",
    "\n",
    "The definition the coefficient of determination is: $$R^2 = 1- \\frac{SS_{res}}{SS_{tot}}$$ where $SS_{res}$ is the sum of squares of residuals and $SS_{tot}$ is the total sum of squares. It represents the proportion of variance that has been explained by the independent variables in the model. The $R^2$ value, as $SS_{res}$ and $SS_{tot}$, depends on the set where we are evaluating the model. Since we are considering different train and test set for each scenario, the $R^2$ value we get is different for the random and longitudinal splits. \n",
    "\n",
    "In both the cases, the $R^2$ valued on the test set, is very small ($\\texttt{<<1}$): this means that the indepentent variables alone aren't able to explain properly the variance in the dependent variable (through a linear model).\n",
    "In particular, for the longitudinal split, $R^2<0$: this means that $SS_{res}>SS_{tot}$ and therefore the prediction of the test set, through this model, is worse than the prediction through an horizontal line (i.e. constant prediction).\n",
    "\n",
    "Observation: Assuming that our linear model has an intercept, the prediction of the target of the training set through a linear model can't be worse than the prediction through an horizontal line, because a constant prediction is a linear model with fixed intercept and all the coefficents null. For this reason, the $R^2$ evaluated on the target of the training set can't be negative. In fact, in this specific case we have: $$R^2 = 1- \\frac{SS_{res}}{SS_{tot}}=\\frac{SS_{reg}}{SS_{tot}}>0$$ where $SS_{reg}$ is the regression sum of squares. However we are evaluating $R^2$ on the target of the test set and in this case can be $SS_{res}>SS_{tot}$.\n"
   ]
  },
  {
   "cell_type": "markdown",
   "metadata": {},
   "source": [
    "__1.3.3__"
   ]
  },
  {
   "cell_type": "code",
   "execution_count": 10,
   "metadata": {},
   "outputs": [
    {
     "data": {
      "image/png": "[encoded data removed]",
      "text/plain": [
       "<Figure size 432x288 with 1 Axes>"
      ]
     },
     "metadata": {
      "needs_background": "light"
     },
     "output_type": "display_data"
    },
    {
     "name": "stdout",
     "output_type": "stream",
     "text": [
      "95% confidence interval for P(|res|>2):\n",
      "lower bound: 0.09\n",
      "upper bound: 0.21\n",
      "\n",
      "Sample mean of P(|res|>2): 0.15548800000000002\n"
     ]
    }
   ],
   "source": [
    "import matplotlib.pyplot as plt\n",
    "import seaborn as sns\n",
    "import random\n",
    "%matplotlib inline\n",
    "\n",
    "# Calculate residual values\n",
    "residual = y_random_test-predict_random\n",
    "residual = residual.to_list()\n",
    "\n",
    "# Plot the distribution\n",
    "sns.distplot(residual)\n",
    "plt.show()\n",
    "\n",
    "# Bootstrap confidence interval\n",
    "\n",
    "# Set parameters\n",
    "resample_size = 100\n",
    "resample_group = 10000\n",
    "resample_probability = []\n",
    "\n",
    "# Resample\n",
    "for i in range(resample_group):\n",
    "    sample_residual = np.array(random.sample(residual, resample_size))\n",
    "    prob = (np.sum(sample_residual > 2) + np.sum(sample_residual < -2))/resample_size\n",
    "    resample_probability.append(prob)\n",
    "\n",
    "# Sort the sample result\n",
    "resample_probability.sort()\n",
    "\n",
    "# Obtain the interval\n",
    "print(\"95% confidence interval for P(|res|>2):\")\n",
    "print(\"lower bound: {}\".format(resample_probability[int(resample_group*0.025)]))\n",
    "print(\"upper bound: {}\".format(resample_probability[int(resample_group*0.925)]))\n",
    "print(\"\\nSample mean of P(|res|>2): {}\".format(np.mean(resample_probability)))"
   ]
  },
  {
   "cell_type": "markdown",
   "metadata": {},
   "source": [
    "__1.3.4__\n",
    "\n",
    "We propose: `has_top_company`, `has_top_institution`, `arxiv`. Even if they are three binary features (not continuous values), their correlation with the `score` is clear. In fact, it is reasonable that people in top companies or top institutions are more likely to produce papers with high quality. Furthermore, `arxiv` column means whether the paper was spotted in a pre-print server around the submission period, and this could influence the scoring of the reviewers.\n",
    "In summary, we are proposing a new model with the same regressors of the last one with a bonus (or penalty) of 3 additional features: if the paper was published by a top company or a top institution, or if it was pre-printed on arxiv.\n",
    "\n",
    "**Idea**: For a further analysis, it could be interesting to combine these 3 new features into 2 new features:\n",
    "\n",
    "- `bias_top_company` = `has_top_company`*`arxiv`\n",
    "- `bias_top_institution` = `has_top_institution`*`arxiv`\n"
   ]
  },
  {
   "cell_type": "markdown",
   "metadata": {},
   "source": [
    "__1.3.5__"
   ]
  },
  {
   "cell_type": "code",
   "execution_count": 11,
   "metadata": {},
   "outputs": [
    {
     "name": "stdout",
     "output_type": "stream",
     "text": [
      "R_squared for the new model with more features: 0.1188\n"
     ]
    }
   ],
   "source": [
    "# Select features, along with the 3 new proposed ones\n",
    "feature_cols = ['authors_publications_median', 'authors_citations_median', 'authors_hindex_median', 'reputation',\n",
    "               'has_top_company', 'has_top_institution', 'arxiv']\n",
    "X_random_train = publication_random_train[feature_cols]\n",
    "y_random_train = publication_random_train.ratings\n",
    "X_random_test = publication_random_test[feature_cols]\n",
    "y_random_test = publication_random_test.ratings\n",
    "\n",
    "# Train the model\n",
    "lr = LinearRegression() \n",
    "lr.fit(X_random_train, y_random_train) \n",
    "\n",
    "# Test the model\n",
    "predict_random = lr.predict(X_random_test)\n",
    "r2_random = r2_score(y_random_test, predict_random)\n",
    "\n",
    "print(\"R_squared for the new model with more features: {0:.4f}\".format(r2_random))"
   ]
  },
  {
   "cell_type": "markdown",
   "metadata": {},
   "source": [
    "### Task 1.4\n",
    "\n",
    "Experiment with training a different regressor, a [Gradient Boosting Regressor](https://scikit-learn.org/stable/modules/ensemble.html?highlight=xgboost#gradient-boosting). This regressor is analogous to the Gradient Boosting Classifier that you have seen in class. This model performs extremely well for a variety of tasks and is often used in machine learning competitions for tabular data (e.g., on [Kaggle](www.kaggle.com)). You must:\n",
    "\n",
    "1. Train a Gradient Boosting Regressor without specifying any parameters, e.g. `GradientBoostingRegressor().fit(X, y)`, and report its $R^2$ on the testing set. Your model should again use as features:\n",
    "\n",
    "    - Median values the number of author citations, publications and h-indexes as calculated in Task 1.1.1.\n",
    "\n",
    "    - `reputation` of the last author, as calculated in Task 1.1.2.\n",
    "\n",
    "Create an additional feature called $crazy$, which is derived as follows. If the score  of the paper, $ratings$, is bigger than 4.96, then $crazy = 9 - ratings$, otherwise, $crazy = - ratings$.\n",
    "\n",
    "2. Train a Gradient Boosting Regressor to predict paper scores using only $crazy$ as a feature. Additionally, train a Linear Regression model to predict paper scores using only $crazy$ as a feature. Report the $R^2$ in the testing set.\n",
    "\n",
    "\n",
    "3. **Discuss:** Why does the Gradient Boosting Regressor perform so much better?"
   ]
  },
  {
   "cell_type": "markdown",
   "metadata": {},
   "source": [
    "__1.4.1__"
   ]
  },
  {
   "cell_type": "code",
   "execution_count": 12,
   "metadata": {},
   "outputs": [
    {
     "name": "stdout",
     "output_type": "stream",
     "text": [
      "R_squared for the GBR model: 0.1041\n"
     ]
    }
   ],
   "source": [
    "from sklearn.ensemble import GradientBoostingRegressor\n",
    "\n",
    "# Select features for the model\n",
    "feature_cols = ['authors_publications_median', 'authors_citations_median', 'authors_hindex_median', 'reputation']\n",
    "X_random_train = publication_random_train[feature_cols]\n",
    "y_random_train = publication_random_train.ratings\n",
    "X_random_test = publication_random_test[feature_cols]\n",
    "y_random_test = publication_random_test.ratings\n",
    "\n",
    "# Train the Gradient Boosting Regressor model\n",
    "gbr = GradientBoostingRegressor() \n",
    "gbr.fit(X_random_train, y_random_train) \n",
    "\n",
    "# Test the model\n",
    "predict_random = gbr.predict(X_random_test)\n",
    "r2_random = r2_score(y_random_test, predict_random)\n",
    "\n",
    "print(\"R_squared for the GBR model: {0:.4f}\".format(r2_random))"
   ]
  },
  {
   "cell_type": "markdown",
   "metadata": {},
   "source": [
    "__1.4.2__"
   ]
  },
  {
   "cell_type": "code",
   "execution_count": 13,
   "metadata": {},
   "outputs": [
    {
     "name": "stdout",
     "output_type": "stream",
     "text": [
      "R_squared for the GBR model: 0.999999\n",
      "R_squared for the linear model: 0.4320\n"
     ]
    }
   ],
   "source": [
    "# Add the 'crazy' feature\n",
    "publication_random_train['crazy'] = [9 - i if i>4.96 else -i for i in publication_random_train['ratings']]\n",
    "publication_random_test['crazy'] = [9 - i if i>4.96 else -i for i in publication_random_test['ratings']]\n",
    "\n",
    "# Select feature for the model\n",
    "feature_cols = ['crazy']\n",
    "X_random_train = publication_random_train[feature_cols]\n",
    "y_random_train = publication_random_train.ratings\n",
    "X_random_test = publication_random_test[feature_cols]\n",
    "y_random_test = publication_random_test.ratings\n",
    "\n",
    "# Create the Gradient Boosting Regressor model\n",
    "gbr = GradientBoostingRegressor()\n",
    "gbr.fit(X_random_train, y_random_train) \n",
    "\n",
    "# Test the model\n",
    "predict_gbr = gbr.predict(X_random_test)\n",
    "r2_gbr = r2_score(y_random_test, predict_gbr)\n",
    "print(\"R_squared for the GBR model: {0:.6f}\".format(r2_gbr))\n",
    "\n",
    "# Create the linear model\n",
    "lr = LinearRegression()\n",
    "lr.fit(X_random_train, y_random_train) \n",
    "\n",
    "# Test the model\n",
    "predict_lr = lr.predict(X_random_test)\n",
    "r2_lr = r2_score(y_random_test, predict_lr)\n",
    "print(\"R_squared for the linear model: {0:.4f}\".format(r2_lr))"
   ]
  },
  {
   "cell_type": "markdown",
   "metadata": {},
   "source": [
    "__1.4.3__\n",
    "\n",
    "According to the definition of gradient boosting regression, the regressor will train the data in multiple stages and the estimator will fit into the residual in each steps. At the end, the residual will become very small.\n",
    "\n",
    "**Riccardo**: we are not explaining why we are predicting so well.The huge improvement is because we are using the given function of the target as a regressor --- (Yes, but why does this feature improve performance?). However we should add something more about why GBR>>LR\n"
   ]
  },
  {
   "cell_type": "markdown",
   "metadata": {},
   "source": [
    "### Task 1.5\n",
    "\n",
    "Complex models often have several hyper-parameters. \n",
    "To obtain the best results, it is common-place to use a cross-validation set-up in your training data to find the best hyper-parameters, and then use it for the test set.\n",
    "\n",
    "\n",
    "1. Write modular code (i.e., a function) to divide your training data into $N$ folds and perform cross-validation.\n",
    "\n",
    "\n",
    "\n",
    "2.  Experiment tuning two hyper-parameters of the Gradient Boosting Regressor: `n_estimators` and `learning_rate`.\n",
    "For each possible combination of the two hyper-parameters (see below for the range of values that you should try for each hyper-parameter), train your model in a cross-validation setup with $N$=20. Report the mean $R^2$ along with the 90% CI for the 18 scenarios. Notice that you can calculate the 90% CI in a bootstrap-like fashion.\n",
    "\n",
    "    - `n_estimators`$ \\in  \\{ 50, 75, 100, 150, 200, 250\\}$\n",
    "    - `learning_rate`$ \\in  \\{ 0.1, 0.05, 0.01\\}$.\n",
    "    \n",
    "    \n",
    "    \n",
    "3. With the best hyper-parameters obtained, train your model with the entire training set and report the $R^2$ on the testing set.\n",
    "\n",
    "\n",
    "\n",
    "4. **Discuss:** Why don't we tune the hyper-parameters in the testing set instead of doing cross-validation in the training set?"
   ]
  },
  {
   "cell_type": "markdown",
   "metadata": {},
   "source": [
    "__1.5.1__"
   ]
  },
  {
   "cell_type": "code",
   "execution_count": 14,
   "metadata": {},
   "outputs": [],
   "source": [
    "seed = 10\n",
    "\n",
    "def build_k_indices(y, N_fold):\n",
    "    \"\"\"build k indices for k-fold.\"\"\"\n",
    "    N = y.shape[0]\n",
    "    interval = int(N / N_fold)\n",
    "    np.random.seed(seed)\n",
    "    indices = np.random.permutation(N)\n",
    "    fold_indices = [indices[k * interval: (k + 1) * interval] for k in range(N_fold)]\n",
    "    \n",
    "    return np.array(fold_indices)"
   ]
  },
  {
   "cell_type": "markdown",
   "metadata": {},
   "source": [
    "__1.5.2__"
   ]
  },
  {
   "cell_type": "code",
   "execution_count": 15,
   "metadata": {},
   "outputs": [],
   "source": [
    "def compare_parameters(n_estimators, learning_rates, k_fold, y, x):\n",
    "    \"\"\"\n",
    "    Given the training set and a set of tuples of parameters (n_estimators, learning_rates) \n",
    "    returns the tuple which maximize the accuracy predicted through Cross Validation \n",
    "    \"\"\"\n",
    "    # Split data in k-fold\n",
    "    fold_indices = build_k_indices(y, N_fold)\n",
    "    comparison = []\n",
    "    \n",
    "    # Iterating over n_estimators and learning_rate\n",
    "    for ne in n_estimators:\n",
    "        for lr in learning_rates:\n",
    "            r2_gbr_tests = []\n",
    "            for k in range(N_fold):\n",
    "                \n",
    "                # Get k'th subgroup in test set, and others in train set\n",
    "                msk_test = fold_indices[k]\n",
    "                msk_train = np.delete(fold_indices, (k), axis=0).ravel()\n",
    "                \n",
    "                x_train = x.iloc[msk_train, :]\n",
    "                x_test = x.iloc[msk_test, :]\n",
    "                y_train = y.iloc[msk_train]\n",
    "                y_test = y.iloc[msk_test]\n",
    "                \n",
    "                # Train the GBR model\n",
    "                gbr = GradientBoostingRegressor(n_estimators=ne, learning_rate=lr)\n",
    "                gbr.fit(x_train, y_train) \n",
    "\n",
    "                # Test the model\n",
    "                predict_gbr = gbr.predict(x_test)\n",
    "                r2_gbr_test = r2_score(y_test, predict_gbr)\n",
    "                r2_gbr_tests.append(r2_gbr_test)\n",
    "                \n",
    "            r2_gbr_tests.sort()\n",
    "            comparison.append([ne, lr, np.mean(r2_gbr_tests), r2_gbr_tests[round((N_fold-1)*0.05)], r2_gbr_tests[round((N_fold-1)*0.95)]])\n",
    "            \n",
    "    return comparison"
   ]
  },
  {
   "cell_type": "markdown",
   "metadata": {},
   "source": [
    "**Riccardo**: Do you agree wth me on how a set the IC: i used N_fold-1\n",
    "        \n"
   ]
  },
  {
   "cell_type": "code",
   "execution_count": 19,
   "metadata": {},
   "outputs": [
    {
     "name": "stdout",
     "output_type": "stream",
     "text": [
      "n_estimator=50, learning_rate=0.1 -> IC 90% on R_squared: LB=0.04436386225622835, UB=0.1721677480884396\n",
      "n_estimator=50, learning_rate=0.05 -> IC 90% on R_squared: LB=0.04123325907516584, UB=0.16227816941005024\n",
      "n_estimator=50, learning_rate=0.01 -> IC 90% on R_squared: LB=0.01867957415998045, UB=0.08372076581630061\n",
      "n_estimator=75, learning_rate=0.1 -> IC 90% on R_squared: LB=0.03117600777175289, UB=0.1792488972988211\n",
      "n_estimator=75, learning_rate=0.05 -> IC 90% on R_squared: LB=0.03876119752614193, UB=0.17596587823987286\n",
      "n_estimator=75, learning_rate=0.01 -> IC 90% on R_squared: LB=0.022328330884513803, UB=0.11046963917298536\n",
      "n_estimator=100, learning_rate=0.1 -> IC 90% on R_squared: LB=0.01645540033108306, UB=0.17500620288714197\n",
      "n_estimator=100, learning_rate=0.05 -> IC 90% on R_squared: LB=0.03921333387623338, UB=0.17885576471365072\n",
      "n_estimator=100, learning_rate=0.01 -> IC 90% on R_squared: LB=0.025753174994495698, UB=0.12914266264408159\n",
      "n_estimator=150, learning_rate=0.1 -> IC 90% on R_squared: LB=0.004333938641834956, UB=0.15904565967115947\n",
      "n_estimator=150, learning_rate=0.05 -> IC 90% on R_squared: LB=0.022414688804884064, UB=0.1821305314158328\n",
      "n_estimator=150, learning_rate=0.01 -> IC 90% on R_squared: LB=0.03972220147614813, UB=0.14084953751489881\n",
      "n_estimator=200, learning_rate=0.1 -> IC 90% on R_squared: LB=-0.005654461498033392, UB=0.15757159488932704\n",
      "n_estimator=200, learning_rate=0.05 -> IC 90% on R_squared: LB=0.009057394589699452, UB=0.18187406569051223\n",
      "n_estimator=200, learning_rate=0.01 -> IC 90% on R_squared: LB=0.047586539301997854, UB=0.1522200490734411\n",
      "n_estimator=250, learning_rate=0.1 -> IC 90% on R_squared: LB=-0.026885126747030696, UB=0.1518274355445567\n",
      "n_estimator=250, learning_rate=0.05 -> IC 90% on R_squared: LB=-1.8114333488750134e-06, UB=0.17585776309374135\n",
      "n_estimator=250, learning_rate=0.01 -> IC 90% on R_squared: LB=0.04226689635291958, UB=0.1650040106089653\n",
      "\n",
      "\n",
      "Best 'n_estimators':  50\n",
      "Best 'learning_rate':  0.1\n",
      "R_squared_predicted with the hyper-paramenters tuned: 0.1061\n"
     ]
    }
   ],
   "source": [
    "# Select features for the model\n",
    "feature_cols = ['authors_publications_median', 'authors_citations_median', 'authors_hindex_median', 'reputation',\n",
    "               'has_top_company', 'has_top_institution', 'arxiv']\n",
    "X_random_train = publication_random_train[feature_cols]\n",
    "y_random_train = publication_random_train.ratings\n",
    "\n",
    "# Use the suggested values\n",
    "N_fold = 20\n",
    "n_estimators = [50, 75, 100, 150, 200, 250]\n",
    "learning_rates = [0.1, 0.05, 0.01]\n",
    "\n",
    "comparison = compare_parameters(n_estimators, learning_rates, N_fold, y_random_train, X_random_train)\n",
    "\n",
    "# Print the obtained values\n",
    "for i in range(len(n_estimators)*len(learning_rates)):\n",
    "    print(\"n_estimator={}, learning_rate={} -> IC 90% on R_squared: LB={}, UB={}\".format(comparison[i][0], comparison[i][1], comparison[i][3], comparison[i][4]))\n",
    "\n",
    "# Find the best hyperparameters \n",
    "ind_best = np.argmax(comparison[:][2])     \n",
    "best_n_estimators = int(comparison[ind_best][0])\n",
    "best_learning_rate = comparison[ind_best][1]\n",
    "r2 = comparison[ind_best][2]\n",
    "\n",
    "print(\"\\n\\nBest n_estimators: \", best_n_estimators)\n",
    "print(\"Best learning_rate: \", best_learning_rate)\n",
    "print(\"R_squared_predicted with the hyper-paramenters tuned: {0:.4f}\".format(r2))"
   ]
  },
  {
   "cell_type": "markdown",
   "metadata": {},
   "source": [
    "__1.5.3__"
   ]
  },
  {
   "cell_type": "code",
   "execution_count": 20,
   "metadata": {},
   "outputs": [
    {
     "name": "stdout",
     "output_type": "stream",
     "text": [
      "R_squared using the best hyperparameters: 0.1239\n"
     ]
    }
   ],
   "source": [
    "# Select features for the model\n",
    "feature_cols = ['authors_publications_median', 'authors_citations_median', 'authors_hindex_median', 'reputation',\n",
    "               'has_top_company', 'has_top_institution', 'arxiv']\n",
    "X_random_train = publication_random_train[feature_cols]\n",
    "y_random_train = publication_random_train.ratings\n",
    "X_random_test = publication_random_test[feature_cols]\n",
    "y_random_test = publication_random_test.ratings\n",
    "\n",
    "# Train the GBR model\n",
    "gbr = GradientBoostingRegressor(n_estimators=best_n_estimators, learning_rate=best_learning_rate)\n",
    "gbr.fit(X_random_train, y_random_train) \n",
    "\n",
    "# Test the model\n",
    "predict_random = gbr.predict(X_random_test)\n",
    "r2_random = r2_score(y_random_test, predict_random)\n",
    "\n",
    "print(\"R_squared using the best hyperparameters: {0:.4f}\".format(r2_random))"
   ]
  },
  {
   "cell_type": "markdown",
   "metadata": {},
   "source": [
    "__1.5.4__\n",
    "\n",
    "In real-world problems, we don't know the values of the target on the test set and so we can't compute the $R^2$ value on it.\n",
    "Even if we know the values of the target on the test set, it is dangerous to set the parameters based on the accuracy that we get on this set, because we don't have any other tool to evaluate if we are overfitting.\n",
    "\n",
    "We tuned the hyper-parameters on the training set through CV, and we evaluate the performance ($R^2$) of the model on the test set. Comparing the $R^2$  values that we get on the training and the test set, observing that $R^2_{test}<R^2_{train}$, we suspect that we are overfitting a little bit.\n",
    "\n",
    "Tuning the parameters with testing set would be like 'cheating' and it wouldn't allow us to understand if we are overfitting or not."
   ]
  },
  {
   "cell_type": "markdown",
   "metadata": {},
   "source": [
    "## _Step 2:_ What influences papers getting accepted?\n",
    "\n",
    "Time to change hats!\n",
    "\n",
    "If before we were interested in creating an accurate regressor, now we are interested in understanding what increases the chance of papers getting accepted. \n",
    "\n",
    "Typically, in that scenario, simpler models with a clear statistical interpretation (e.g. logistic regression) yield more interesting insights.\n",
    "\n",
    "For the analysis in this and the next step, you should use [statsmodels](https://www.statsmodels.org/) (for the regressions) and [scipy](https://www.scipy.org/) (for the statistical hypothesis testing).\n"
   ]
  },
  {
   "cell_type": "markdown",
   "metadata": {},
   "source": [
    "### Task 2.1\n",
    "\n",
    "Let's warm up with some visualizations and some hypothesis testing!\n",
    "\n",
    "1. Plot the distributions of 1) ratings of papers that got accepted in 2020, 2) ratings of papers that got rejected in 2020.\n",
    "\n",
    "\n",
    "2. Select a statistical test to compare whether the mean for ratings of papers that got accepted in 2020 is significantly higher.\n",
    "\n",
    "\n",
    "3. **Discuss:** Justify why the statistical test you selected is appropriate. Interpret the test-related statistic and its p-value: concretely, what do they mean?"
   ]
  },
  {
   "cell_type": "markdown",
   "metadata": {},
   "source": [
    "__2.1.1__"
   ]
  },
  {
   "cell_type": "code",
   "execution_count": 21,
   "metadata": {},
   "outputs": [
    {
     "data": {
      "image/png": "[encoded data removed]",
      "text/plain": [
       "<Figure size 432x288 with 1 Axes>"
      ]
     },
     "metadata": {
      "needs_background": "light"
     },
     "output_type": "display_data"
    }
   ],
   "source": [
    "# Find publications that got accepted and rejected in 2020\n",
    "publication_2020 = publication[publication['year'] == 2020]\n",
    "publication_2020_ac = publication_2020[publication_2020['decisions'] == 'Accept']\n",
    "publication_2020_rj = publication_2020[publication_2020['decisions'] == 'Reject']\n",
    "\n",
    "# Plot the distributions\n",
    "sns.distplot(publication_2020_ac['ratings'], bins = 10, label = 'Accept')\n",
    "sns.distplot(publication_2020_rj['ratings'], bins = 10, label = 'Reject')\n",
    "plt.legend()\n",
    "plt.show()"
   ]
  },
  {
   "cell_type": "markdown",
   "metadata": {},
   "source": [
    "__2.1.2__"
   ]
  },
  {
   "cell_type": "code",
   "execution_count": 25,
   "metadata": {},
   "outputs": [
    {
     "name": "stdout",
     "output_type": "stream",
     "text": [
      "t-statistic: -45.7978\n",
      "p-value: 2.607978e-316\n"
     ]
    }
   ],
   "source": [
    "from scipy import stats\n",
    "\n",
    "# Testing hypothesis\n",
    "# H0: mean_accept <= mean_reject\n",
    "# Ha: mean_accept > mean_reject\n",
    "t_score, p = stats.ttest_ind(publication_2020_rj['ratings'], publication_2020_ac['ratings'])\n",
    "print(\"t-statistic: {0:.4f}\".format(t_score))\n",
    "print(\"p-value: {:e}\".format(p/2))"
   ]
  },
  {
   "cell_type": "markdown",
   "metadata": {},
   "source": [
    "Since p-value < 0.05, we reject the null hypothesis."
   ]
  },
  {
   "cell_type": "markdown",
   "metadata": {},
   "source": [
    "__2.1.3__\n",
    "\n",
    "The t-test function provided by `scipy` is a two tailed test to test the hypothesis $\\mu_1 -\\mu_2=0$. The original $\\textit{p-value}$ is the probability of the occurrence of the distribution while $\\mu_1 -\\mu_2$ is extremely large or small. To adjust the hypothesis to $\\mu_1 -\\mu_2 \\geq 0$ we could divide the p-value by two to obtain the one-tailed p-value. \n",
    "\n",
    "The definition of the t-statistic is the ratio of the difference between estimated value and hypothesized value to its standard error ($\\sigma$). In our case,\n",
    "\n",
    "$$t-statistic = \\frac{\\mu_1 -\\mu_2}{\\sigma}$$\n",
    "\n",
    "Therefore, when $t-statistic < 0$, and $p-value < \\alpha$, we could reject the null hypothesis that $\\mu_1 -\\mu_2 \\geq 0$."
   ]
  },
  {
   "cell_type": "markdown",
   "metadata": {},
   "source": [
    "### Task 2.2\n",
    "\n",
    "We will now carry out a logistic regression modeling the binary variable `decisions` as a function of the continuous variable `ratings` and an intercept. \n",
    "\n",
    "Recall that a logistic regression is a model in the form:\n",
    "\n",
    "$$\n",
    "\\log \\Big( \\frac{p}{1-p} \\Big) = b_0 + b_1x_1 + b_2x_2 + \\ldots\n",
    "$$\n",
    "\n",
    "Where $p$ is the probability of the dependent variable (here, `decisions`) being equals to 1. \n",
    "Note that $\\frac{p}{1-p}$ represents the odds of the variable, and thus, on the left-hand side we have the log-odds of the variable.\n",
    "This can be also written as:\n",
    "\n",
    "$$\n",
    "\\Big( \\frac{p}{1-p} \\Big) = e^{b_0 + b_1 x_1 + b_2 x_2 + \\ldots} =  e^{b_0} e^{b_1 x_1} e^{b_2 x_2} \\ldots\n",
    "$$\n",
    "\n",
    "Given a linear variable, say $x_1$, if we increase the value associated with this variable by a single unit, and keep everything constant, we have:\n",
    "\n",
    "$$\n",
    " e^{b_1(x_1+1)} =  e^{b_1 x_1 + b_1} = e^{b_1 x_1}e^{b_1}  \n",
    "$$\n",
    "\n",
    "This means that we multiply the odds of the outcome variable by $e^{b_1}$. Thus, let's say that $x_1$ is the average rating, and $\\beta_1$ is the associated coefficient. Also, let's assume that $\\beta_1$ equals 2. In that case, increasing the score of the paper by 1 unit is equivalent to multiplying both sides of the previous equation by $e^{b_1}$. The original equation for our model becomes:\n",
    "\n",
    "$$\n",
    "\\Big( \\frac{p}{1-p} \\Big) = e^{b_0} e^{b_1 x_1} \n",
    "$$\n",
    "$$\n",
    "\\Big( \\frac{p}{1-p} \\Big) e^{b_1}  = e^{b_0} e^{b_1 x_1} e^{b_1}\n",
    "$$\n",
    "\n",
    "Since $b_1=2$, we have that this is the same as multiplying the odds of the variable by $e^2\\approx7$. \n",
    "So for example, if a paper with a score 5 had $p=0.05$ of being approved, its odds would be $0.05/0.95\\approx0.052$. According to our model, an increase in 1-rating point would mean that the new odds would be $0.052*7\\approx0.36$. Using the odds formula  ($\\frac{p}{1-p}$), this suggests that this paper would have a chance of $0.56$ of being accepted.\n",
    "\n",
    "---\n",
    "\n",
    "This is the theory. Now, let's find out what the real world looks like.\n",
    "\n",
    "1. Fit a logistic regression model to our data considering as the training set all papers submitted in 2020. Your model should predict a binary variable related to decisions (which equals true if the paper was accepted and false otherwise) as a function of the paper ratings and an intercept. In mathematical notation:\n",
    "$$\n",
    "d = b_0 + r b_1\n",
    "$$\n",
    "Where $d$ is the binary variable corresponding to a decision, $r$ is a numeric variable corresponding to the rating a paper has received and $b$ are coefficients.\n",
    "Notice that here we have no testing set!\n",
    "Report the summary of your model. \n",
    "\n",
    "\n",
    "\n",
    "2. **Discuss:** Interpreting the coefficients of your model, calculate the probability that a paper with a score 7 will be accepted.\n"
   ]
  },
  {
   "cell_type": "markdown",
   "metadata": {},
   "source": [
    "__2.2.1__"
   ]
  },
  {
   "cell_type": "code",
   "execution_count": 26,
   "metadata": {},
   "outputs": [
    {
     "name": "stdout",
     "output_type": "stream",
     "text": [
      "Optimization terminated successfully.\n",
      "         Current function value: 0.251882\n",
      "         Iterations 8\n",
      "                           Logit Regression Results                           \n",
      "==============================================================================\n",
      "Dep. Variable:       decisions_binary   No. Observations:                 2052\n",
      "Model:                          Logit   Df Residuals:                     2050\n",
      "Method:                           MLE   Df Model:                            1\n",
      "Date:                Fri, 20 Nov 2020   Pseudo R-squ.:                  0.5913\n",
      "Time:                        22:09:08   Log-Likelihood:                -516.86\n",
      "converged:                       True   LL-Null:                       -1264.6\n",
      "Covariance Type:            nonrobust   LLR p-value:                     0.000\n",
      "==============================================================================\n",
      "                 coef    std err          z      P>|z|      [0.025      0.975]\n",
      "------------------------------------------------------------------------------\n",
      "Intercept    -12.8811      0.597    -21.574      0.000     -14.051     -11.711\n",
      "ratings        2.3672      0.110     21.438      0.000       2.151       2.584\n",
      "==============================================================================\n"
     ]
    }
   ],
   "source": [
    "import statsmodels.api as sm\n",
    "import statsmodels.formula.api as smf\n",
    "\n",
    "# Define the binary decisions variable for 2020 publications\n",
    "publication_2020 = publication[publication['year'] == 2020].copy()\n",
    "publication_2020['decisions_binary'] = [1 if i == 'Accept' else 0 for i in publication_2020['decisions']]\n",
    "\n",
    "# Fit the logistic regression model\n",
    "mod = smf.logit(formula='decisions_binary ~ ratings', data=publication_2020)\n",
    "res = mod.fit()\n",
    "print(res.summary())"
   ]
  },
  {
   "cell_type": "markdown",
   "metadata": {},
   "source": [
    "__2.2.2__\n",
    "\n",
    "Our model is:\n",
    "\n",
    "$$\n",
    "\\log \\Big( \\frac{p}{1-p} \\Big) = -12.8811 + 2.3672 \\cdot \n",
    "x_{ratings}\n",
    "$$\n",
    "\n",
    "$\\beta_{ratings}=2.3672>0$ means that greater is the ratings variable ($x_{ratings}$), greater is $\n",
    "\\log \\Big( \\frac{p}{1-p} \\Big) $ and so the probability that the paper is accepted ($p$). This result confirms our expectations.\n"
   ]
  },
  {
   "cell_type": "code",
   "execution_count": 27,
   "metadata": {},
   "outputs": [
    {
     "name": "stdout",
     "output_type": "stream",
     "text": [
      "The probability that a paper is accepted given that it received a 7 rating score: 0.9756\n"
     ]
    }
   ],
   "source": [
    "# Calculate the probability\n",
    "newpred = pd.DataFrame({\"ratings\": [7]})\n",
    "prediction = res.predict(newpred)\n",
    "print(\"The probability that a paper is accepted given that it received a 7 rating score: {0:.4f}\".format(prediction.values[0]))"
   ]
  },
  {
   "cell_type": "markdown",
   "metadata": {},
   "source": [
    "### Task 2.3\n",
    "\n",
    "Our model is not so interesting since the only independent variable (that is, our model' feature or predictor) is something blatantly associated with paper acceptance. Let's go further! \n",
    "\n",
    "1. Run a logistic regression with the binary decision as the dependent variable (the outcome) and using as independent variables (the features): ratings, the reputation of the last author, and whether the paper was on arxiv or not. That is, in [patsy-style formula](https://patsy.readthedocs.io/en/latest/formulas.html): `decisions ~ ratings + reputation + arxiv` (variable names do not need to be exactly these). Consider all papers submitted in 2020 as your training data.\n",
    "Notice that reputation was calculated in Task 1.1. \n",
    "\n",
    "2. **Discuss:** Unlike `ratings` and `reputation`, the variable `arxiv` is binary. Following the same logic as we did for continuous variables in the text of Task 2.2, interpret the meaning of this coefficient. What happens to the odds ratio if the paper was seen in arxiv? Is this effect statistically significant?"
   ]
  },
  {
   "cell_type": "markdown",
   "metadata": {},
   "source": [
    "__2.3.1__"
   ]
  },
  {
   "cell_type": "code",
   "execution_count": 28,
   "metadata": {},
   "outputs": [
    {
     "name": "stdout",
     "output_type": "stream",
     "text": [
      "Optimization terminated successfully.\n",
      "         Current function value: 0.250440\n",
      "         Iterations 8\n",
      "                           Logit Regression Results                           \n",
      "==============================================================================\n",
      "Dep. Variable:       decisions_binary   No. Observations:                 2052\n",
      "Model:                          Logit   Df Residuals:                     2048\n",
      "Method:                           MLE   Df Model:                            3\n",
      "Date:                Fri, 20 Nov 2020   Pseudo R-squ.:                  0.5936\n",
      "Time:                        22:09:42   Log-Likelihood:                -513.90\n",
      "converged:                       True   LL-Null:                       -1264.6\n",
      "Covariance Type:            nonrobust   LLR p-value:                     0.000\n",
      "=================================================================================\n",
      "                    coef    std err          z      P>|z|      [0.025      0.975]\n",
      "---------------------------------------------------------------------------------\n",
      "Intercept       -13.2261      0.634    -20.873      0.000     -14.468     -11.984\n",
      "arxiv[T.True]     0.2890      0.167      1.727      0.084      -0.039       0.617\n",
      "ratings           2.3541      0.111     21.296      0.000       2.137       2.571\n",
      "reputation        0.2267      0.148      1.533      0.125      -0.063       0.517\n",
      "=================================================================================\n"
     ]
    }
   ],
   "source": [
    "# Fit the logistic regression model\n",
    "mod = smf.logit(formula='decisions_binary ~ ratings + reputation + arxiv', data=publication_2020)\n",
    "res = mod.fit()\n",
    "print(res.summary())"
   ]
  },
  {
   "cell_type": "markdown",
   "metadata": {},
   "source": [
    "__2.3.2__\n",
    "\n",
    "\n",
    "Our model is:\n",
    "\n",
    "$$\n",
    "\\log \\Big( \\frac{p}{1-p} \\Big) = -13.2261 + 0.2890 \\cdot \n",
    "x_{arxiv} + 2.3541 \\cdot x_{ratings} +  0.2267 \\cdot x_{reputation}\n",
    "$$\n",
    "\n",
    "It can be also written as:\n",
    "\n",
    "$$\n",
    "\\Big( \\frac{p}{1-p} \\Big) = e^{-13.2261 + 0.2890 \\cdot \n",
    "x_{arxiv} + 2.3541 \\cdot x_{ratings} +  0.2267 \\cdot reputation} =  e^{-13.2261} e^{0.2890 \\cdot \n",
    "x_{arxiv}} e^{2.3541 \\cdot x_{ratings}} e^{0.2267 \\cdot x_{reputation}}\n",
    "$$\n",
    "\n",
    "$x_{rating}$ is a binary feature, so there are only two cases:\n",
    "\n",
    "- if $x_{rating}=0$, it doesn't contribute in the model; \n",
    "- if $x_{rating}=1$, the log-odds increases of a factor $e^{0.2890}=1.3350>0$. \n",
    "\n",
    "This means that greater the `arxiv` variable ($x_{arxiv}$), greater is $\n",
    "\\log \\Big( \\frac{p}{1-p} \\Big) $ and so is the probability that the paper is accepted ($p$).\n",
    "\n",
    "Fixed the value of $x_{ratings}$ and $x_{reputation}$, we can compute:\n",
    "\n",
    "$$ \n",
    "Odds Ratio = \\frac{Odds(x_{arxiv}=1, x_{ratings}=a, x_{reputations}=b)}{Odds(x_{arxiv}=0, x_{ratings}=a, x_{reputations}=b)} = \\frac{e^{0.2890 \\cdot 1}}{e^{0.2890 \\cdot  0}} \\cdot 1= e^{0.2890} = 1.3350 \n",
    "$$\n",
    "\n",
    "It means that if we know the Odds value for a fixed value of $x_{ratings}$ and $x_{reputation}$, and $x_{arxiv}=0$ we can easily compute the Odds value of the same fixed features but with $x_{arxiv}=1$ multiplying the previos Odds with the Odds Ratio $=1.3350$. \n",
    "\n",
    "However, since the $p-value$ of the z-test on regressor `arxiv` is equal to 0.084 (>0.05), there is not big statistical evedence that we can improve the model using the variable `arxiv` as a regressor. As expected, in general, we don't know that if the reviewers know the authors is a benefit or not for the authours themselves. Our hypothesis is that it could influence the judgement of the reviwers, but it depends on the reputations of the authors, and for this reason the fact that $x_{arxiv}$ is not a statistically significant regressor in general, it is as expected.\n"
   ]
  },
  {
   "cell_type": "markdown",
   "metadata": {},
   "source": [
    "### Task 2.4\n",
    "\n",
    "Let's finally move on to the question that you have been dying to answer: Do pre-prints favor top institutions? \n",
    "\n",
    "In order to (try to) answer that question, you must fit yet another logistic regression.\n",
    "\n",
    "Your regression should have the paper decision as the dependent variable, and `ratings`, `reputation`, and `arxiv` as independent variables just like in task 2.3. Yet, here, include also as independent variables the binary variable `has_top_institution`, which equals 1 if the paper has an author in a top-10 institution; and the interaction variable `arxiv:has_top_institution`, which equals one only if the paper is from a top-10 institution **and** if it appeared on arxiv before the submission deadline. In patsy-style formula your model should look something like: \n",
    "\n",
    "`decisions_bool ~ ratings + reputation + arxiv + has_top_institution + arxiv:has_top_institution`\n",
    "\n",
    "\n",
    "1. Fit this model and estimate the effect of posting on arxiv for a top institution. Again, consider only papers submitted in the 2020 edition.\n",
    "\n",
    "\n",
    "2. **Discuss:** Interpreting the p-values, discuss: is this evidence that arxiv breaks double-blind submissions?"
   ]
  },
  {
   "cell_type": "markdown",
   "metadata": {},
   "source": [
    "__2.4.1__"
   ]
  },
  {
   "cell_type": "code",
   "execution_count": 29,
   "metadata": {},
   "outputs": [
    {
     "name": "stdout",
     "output_type": "stream",
     "text": [
      "Optimization terminated successfully.\n",
      "         Current function value: 0.249931\n",
      "         Iterations 8\n",
      "                           Logit Regression Results                           \n",
      "==============================================================================\n",
      "Dep. Variable:       decisions_binary   No. Observations:                 2052\n",
      "Model:                          Logit   Df Residuals:                     2046\n",
      "Method:                           MLE   Df Model:                            5\n",
      "Date:                Fri, 20 Nov 2020   Pseudo R-squ.:                  0.5945\n",
      "Time:                        22:09:48   Log-Likelihood:                -512.86\n",
      "converged:                       True   LL-Null:                       -1264.6\n",
      "Covariance Type:            nonrobust   LLR p-value:                     0.000\n",
      "=====================================================================================================\n",
      "                                        coef    std err          z      P>|z|      [0.025      0.975]\n",
      "-----------------------------------------------------------------------------------------------------\n",
      "Intercept                           -13.0941      0.640    -20.447      0.000     -14.349     -11.839\n",
      "arxiv[T.True]                        -0.0489      0.302     -0.162      0.871      -0.642       0.544\n",
      "ratings                               2.3617      0.111     21.275      0.000       2.144       2.579\n",
      "reputation                            0.2286      0.150      1.520      0.129      -0.066       0.524\n",
      "has_top_institution                  -0.2575      0.213     -1.207      0.227      -0.676       0.161\n",
      "arxiv[T.True]:has_top_institution     0.4887      0.364      1.343      0.179      -0.224       1.202\n",
      "=====================================================================================================\n"
     ]
    }
   ],
   "source": [
    "# Fit the logistic regression model\n",
    "mod = smf.logit(formula='decisions_binary ~ ratings + reputation + arxiv + has_top_institution \\\n",
    "                + arxiv:has_top_institution', data=publication_2020)\n",
    "res = mod.fit()\n",
    "print(res.summary())"
   ]
  },
  {
   "cell_type": "markdown",
   "metadata": {},
   "source": [
    "__2.4.2__"
   ]
  },
  {
   "cell_type": "markdown",
   "metadata": {},
   "source": [
    "The P-value of the z-test on the regressor `arxiv:has_top_institution` in the model `decisions_bool ~ ratings + reputation + arxiv + has_top_institution + arxiv:has_top_institution` is equal to 0.179 (>0.05). This means that in this model, there is not  enough statistical evidence to consider `arxiv:has_top_institution` as a regressor. It might make us thinking that in general, if the reviewers could know who the authors of a paper are and they are associated to a top institution, this don't influence the evaluation.\n",
    "\n",
    "However the value of this z-test is strictly related with the model, and in this model, we are considering 3 regressors which are very similar: `arxiv`, `has_top_institution` and `arxiv:has_top_institution`.\n",
    "We observe that, if we consider the same model, without the regressor `arxiv`, the  P-value of the z-test on the regressor `arxiv:has_top_institution` become 0.029 (<0.05) and it means that there is statistical evidence to consider the regressor `arxiv`. In other words, if the reviewers could know who the authors of a paper are and if they are associated with a top institution, this improves (since $\\beta_{arxiv}=0.4396>0$) the evaluation.\n",
    "\n",
    "In general, we are not sure that if the double-blind reviewing process is violated. It can affect the evaluations of the reviewers; but with the following model below we have shown that there is a non-negligible statistical evidence that if the reviewers could know who the authors of a paper are and if they are associated with a top institution, this improves the evaluation."
   ]
  },
  {
   "cell_type": "code",
   "execution_count": 30,
   "metadata": {},
   "outputs": [
    {
     "name": "stdout",
     "output_type": "stream",
     "text": [
      "Optimization terminated successfully.\n",
      "         Current function value: 0.249938\n",
      "         Iterations 8\n",
      "                           Logit Regression Results                           \n",
      "==============================================================================\n",
      "Dep. Variable:       decisions_binary   No. Observations:                 2052\n",
      "Model:                          Logit   Df Residuals:                     2047\n",
      "Method:                           MLE   Df Model:                            4\n",
      "Date:                Fri, 20 Nov 2020   Pseudo R-squ.:                  0.5945\n",
      "Time:                        22:10:37   Log-Likelihood:                -512.87\n",
      "converged:                       True   LL-Null:                       -1264.6\n",
      "Covariance Type:            nonrobust   LLR p-value:                     0.000\n",
      "=====================================================================================================\n",
      "                                        coef    std err          z      P>|z|      [0.025      0.975]\n",
      "-----------------------------------------------------------------------------------------------------\n",
      "Intercept                           -13.1047      0.637    -20.563      0.000     -14.354     -11.856\n",
      "ratings                               2.3606      0.111     21.310      0.000       2.143       2.578\n",
      "reputation                            0.2286      0.150      1.519      0.129      -0.066       0.524\n",
      "has_top_institution                  -0.2411      0.188     -1.284      0.199      -0.609       0.127\n",
      "arxiv[T.True]:has_top_institution     0.4396      0.201      2.182      0.029       0.045       0.835\n",
      "=====================================================================================================\n"
     ]
    }
   ],
   "source": [
    "# Fit the logistic regression model\n",
    "mod = smf.logit(formula='decisions_binary ~ ratings + reputation + has_top_institution \\\n",
    "                + arxiv:has_top_institution', data=publication_2020)\n",
    "res = mod.fit()\n",
    "print(res.summary())"
   ]
  },
  {
   "cell_type": "markdown",
   "metadata": {},
   "source": [
    "## Step 3: Matching\n",
    "\n",
    "Okay, so let's change hats one last time.\n",
    "\n",
    "As you have all seen in class, a particularly powerful way of disentangling causal effects from observational data is through matching: making sure we are not comparing apples to oranges.\n",
    "\n",
    "\n",
    "### Task 3.1\n",
    "\n",
    "One of the ways to do matching is called \"Propensity Score Matching.\" There, we calculate a *propensity score* for each subject which represents the propensity to receive a \"treatment.\" Then, we match subjects who received and did not receive the treatment, but that had similar propensity scores (that is, even though some received the treatment and some did not, they had similar chances to receive it).\n",
    "\n",
    "In our specific case, we can further attempt to study the impact of pre-prints by considering publishing to arxiv as our \"treatment\".\n",
    "\n",
    "In that context, the first step to perform propensity score matching is to create a classifier that predicts whether a paper was published on arxiv or not.\n",
    "\n",
    "1. We have trained this classifier for you (don't get spoiled!). You may load the pandas dataframe entitled `propensity_scores.csv.gz` from the github repo. \n",
    "Notice that we will be using only the articles published in 2020. \n",
    "Create a new dataframe that is a merged version of this new dataframe with the dataframe you have been working on so far. Remember to keep only the papers published in 2020!\n",
    "\n",
    "\n",
    "2. **Discuss:** In which way is this classifier (that is a classifier trained to estimate propensity scores) different from the previous regressor that you trained in Step 1?\n",
    "\n",
    "**Hint:** For a classifier we don't need a training set and a test set!\n"
   ]
  },
  {
   "cell_type": "markdown",
   "metadata": {},
   "source": [
    "__3.1.1__"
   ]
  },
  {
   "cell_type": "code",
   "execution_count": 31,
   "metadata": {},
   "outputs": [
    {
     "data": {
      "text/html": [
       "<div>\n",
       "<style scoped>\n",
       "    .dataframe tbody tr th:only-of-type {\n",
       "        vertical-align: middle;\n",
       "    }\n",
       "\n",
       "    .dataframe tbody tr th {\n",
       "        vertical-align: top;\n",
       "    }\n",
       "\n",
       "    .dataframe thead th {\n",
       "        text-align: right;\n",
       "    }\n",
       "</style>\n",
       "<table border=\"1\" class=\"dataframe\">\n",
       "  <thead>\n",
       "    <tr style=\"text-align: right;\">\n",
       "      <th></th>\n",
       "      <th>year</th>\n",
       "      <th>paper</th>\n",
       "      <th>authors</th>\n",
       "      <th>ratings</th>\n",
       "      <th>decisions</th>\n",
       "      <th>institution</th>\n",
       "      <th>csranking</th>\n",
       "      <th>categories</th>\n",
       "      <th>authors_citations</th>\n",
       "      <th>authors_publications</th>\n",
       "      <th>authors_hindex</th>\n",
       "      <th>arxiv</th>\n",
       "      <th>authors_publications_median</th>\n",
       "      <th>authors_citations_median</th>\n",
       "      <th>authors_hindex_median</th>\n",
       "      <th>reputation</th>\n",
       "      <th>has_top_company</th>\n",
       "      <th>has_top_institution</th>\n",
       "      <th>propensity_score</th>\n",
       "    </tr>\n",
       "  </thead>\n",
       "  <tbody>\n",
       "    <tr>\n",
       "      <th>0</th>\n",
       "      <td>2020</td>\n",
       "      <td>Pitfalls of In-Domain Uncertainty Estimation a...</td>\n",
       "      <td>Arsenii Ashukha;Alexander Lyzhov;Dmitry Molcha...</td>\n",
       "      <td>6.666667</td>\n",
       "      <td>Accept</td>\n",
       "      <td>Samsung;Skolkovo Institute of Science and Tech...</td>\n",
       "      <td>-1;-1;-1;481</td>\n",
       "      <td>0</td>\n",
       "      <td>488;12;481;2097</td>\n",
       "      <td>14;2;17;124</td>\n",
       "      <td>8;1;7;16</td>\n",
       "      <td>False</td>\n",
       "      <td>15.5</td>\n",
       "      <td>484.5</td>\n",
       "      <td>7.5</td>\n",
       "      <td>1.253127</td>\n",
       "      <td>0</td>\n",
       "      <td>1</td>\n",
       "      <td>0.360486</td>\n",
       "    </tr>\n",
       "    <tr>\n",
       "      <th>1</th>\n",
       "      <td>2020</td>\n",
       "      <td>An Inductive Bias for Distances: Neural Nets t...</td>\n",
       "      <td>Silviu Pitis;Harris Chan;Kiarash Jamali;Jimmy Ba</td>\n",
       "      <td>6.750000</td>\n",
       "      <td>Accept</td>\n",
       "      <td>Department of Computer Science, University of ...</td>\n",
       "      <td>18;18;18;18</td>\n",
       "      <td>1;10</td>\n",
       "      <td>15;23;3;52924</td>\n",
       "      <td>9;13;3;56</td>\n",
       "      <td>2;3;1;22</td>\n",
       "      <td>False</td>\n",
       "      <td>11.0</td>\n",
       "      <td>19.0</td>\n",
       "      <td>2.5</td>\n",
       "      <td>2.975924</td>\n",
       "      <td>0</td>\n",
       "      <td>0</td>\n",
       "      <td>0.567842</td>\n",
       "    </tr>\n",
       "    <tr>\n",
       "      <th>2</th>\n",
       "      <td>2020</td>\n",
       "      <td>Stochastic AUC Maximization with Deep Neural N...</td>\n",
       "      <td>Mingrui Liu;Zhuoning Yuan;Yiming Ying;Tianbao ...</td>\n",
       "      <td>6.000000</td>\n",
       "      <td>Accept</td>\n",
       "      <td>University of Iowa;University of Iowa;State Un...</td>\n",
       "      <td>154;154;266;154</td>\n",
       "      <td>9</td>\n",
       "      <td>238;112;2144;3236</td>\n",
       "      <td>29;12;64;187</td>\n",
       "      <td>9;4;24;29</td>\n",
       "      <td>True</td>\n",
       "      <td>46.5</td>\n",
       "      <td>1191.0</td>\n",
       "      <td>16.5</td>\n",
       "      <td>1.262565</td>\n",
       "      <td>0</td>\n",
       "      <td>0</td>\n",
       "      <td>0.334322</td>\n",
       "    </tr>\n",
       "    <tr>\n",
       "      <th>3</th>\n",
       "      <td>2020</td>\n",
       "      <td>On the interaction between supervision and sel...</td>\n",
       "      <td>Ryan Lowe*;Abhinav Gupta*;Jakob Foerster;Douwe...</td>\n",
       "      <td>6.666667</td>\n",
       "      <td>Accept</td>\n",
       "      <td>McGill University;University of Montreal;Faceb...</td>\n",
       "      <td>86;128;-1;-1;86</td>\n",
       "      <td>3</td>\n",
       "      <td>3343;36;2107;3454;11328</td>\n",
       "      <td>53;10;58;80;267</td>\n",
       "      <td>17;3;19;29;46</td>\n",
       "      <td>False</td>\n",
       "      <td>58.0</td>\n",
       "      <td>3343.0</td>\n",
       "      <td>19.0</td>\n",
       "      <td>1.637759</td>\n",
       "      <td>1</td>\n",
       "      <td>1</td>\n",
       "      <td>0.402644</td>\n",
       "    </tr>\n",
       "    <tr>\n",
       "      <th>4</th>\n",
       "      <td>2020</td>\n",
       "      <td>Towards Better Understanding of Adaptive Gradi...</td>\n",
       "      <td>Mingrui Liu;Youssef Mroueh;Jerret Ross;Wei Zha...</td>\n",
       "      <td>6.000000</td>\n",
       "      <td>Accept</td>\n",
       "      <td>University of Iowa;International Business Mach...</td>\n",
       "      <td>154;-1;-1;-1;-1;-1;154</td>\n",
       "      <td>5;9</td>\n",
       "      <td>238;916;392;108;241;848;3236</td>\n",
       "      <td>29;53;12;46;30;86;187</td>\n",
       "      <td>9;11;4;6;6;17;29</td>\n",
       "      <td>False</td>\n",
       "      <td>46.0</td>\n",
       "      <td>392.0</td>\n",
       "      <td>9.0</td>\n",
       "      <td>1.262565</td>\n",
       "      <td>0</td>\n",
       "      <td>1</td>\n",
       "      <td>0.334322</td>\n",
       "    </tr>\n",
       "  </tbody>\n",
       "</table>\n",
       "</div>"
      ],
      "text/plain": [
       "   year                                              paper  \\\n",
       "0  2020  Pitfalls of In-Domain Uncertainty Estimation a...   \n",
       "1  2020  An Inductive Bias for Distances: Neural Nets t...   \n",
       "2  2020  Stochastic AUC Maximization with Deep Neural N...   \n",
       "3  2020  On the interaction between supervision and sel...   \n",
       "4  2020  Towards Better Understanding of Adaptive Gradi...   \n",
       "\n",
       "                                             authors   ratings decisions  \\\n",
       "0  Arsenii Ashukha;Alexander Lyzhov;Dmitry Molcha...  6.666667    Accept   \n",
       "1   Silviu Pitis;Harris Chan;Kiarash Jamali;Jimmy Ba  6.750000    Accept   \n",
       "2  Mingrui Liu;Zhuoning Yuan;Yiming Ying;Tianbao ...  6.000000    Accept   \n",
       "3  Ryan Lowe*;Abhinav Gupta*;Jakob Foerster;Douwe...  6.666667    Accept   \n",
       "4  Mingrui Liu;Youssef Mroueh;Jerret Ross;Wei Zha...  6.000000    Accept   \n",
       "\n",
       "                                         institution               csranking  \\\n",
       "0  Samsung;Skolkovo Institute of Science and Tech...            -1;-1;-1;481   \n",
       "1  Department of Computer Science, University of ...             18;18;18;18   \n",
       "2  University of Iowa;University of Iowa;State Un...         154;154;266;154   \n",
       "3  McGill University;University of Montreal;Faceb...         86;128;-1;-1;86   \n",
       "4  University of Iowa;International Business Mach...  154;-1;-1;-1;-1;-1;154   \n",
       "\n",
       "  categories             authors_citations   authors_publications  \\\n",
       "0          0               488;12;481;2097            14;2;17;124   \n",
       "1       1;10                 15;23;3;52924              9;13;3;56   \n",
       "2          9             238;112;2144;3236           29;12;64;187   \n",
       "3          3       3343;36;2107;3454;11328        53;10;58;80;267   \n",
       "4        5;9  238;916;392;108;241;848;3236  29;53;12;46;30;86;187   \n",
       "\n",
       "     authors_hindex  arxiv  authors_publications_median  \\\n",
       "0          8;1;7;16  False                         15.5   \n",
       "1          2;3;1;22  False                         11.0   \n",
       "2         9;4;24;29   True                         46.5   \n",
       "3     17;3;19;29;46  False                         58.0   \n",
       "4  9;11;4;6;6;17;29  False                         46.0   \n",
       "\n",
       "   authors_citations_median  authors_hindex_median  reputation  \\\n",
       "0                     484.5                    7.5    1.253127   \n",
       "1                      19.0                    2.5    2.975924   \n",
       "2                    1191.0                   16.5    1.262565   \n",
       "3                    3343.0                   19.0    1.637759   \n",
       "4                     392.0                    9.0    1.262565   \n",
       "\n",
       "   has_top_company  has_top_institution  propensity_score  \n",
       "0                0                    1          0.360486  \n",
       "1                0                    0          0.567842  \n",
       "2                0                    0          0.334322  \n",
       "3                1                    1          0.402644  \n",
       "4                0                    1          0.334322  "
      ]
     },
     "execution_count": 31,
     "metadata": {},
     "output_type": "execute_result"
    }
   ],
   "source": [
    "# Load the dataset for propensity scores\n",
    "propensity_scores = pd.read_csv('./data/propensity_scores.csv.gz', compression = 'gzip')\n",
    "\n",
    "# Keep only the 2020 publications\n",
    "publication_2020 = publication[ publication['year'] == 2020 ]\n",
    "publication_2020 = publication_2020.merge(propensity_scores, on = 'paper')\n",
    "\n",
    "# For reference\n",
    "publication_2020.head()"
   ]
  },
  {
   "cell_type": "markdown",
   "metadata": {},
   "source": [
    "__3.1.2__\n",
    "\n",
    "The propensity score is not used to predict the unseen data, instead, it is used to balance the treatment group. The propensity score estimation can still do well with slight overfitting. Therefore, we do not need a testing set for the propensity score classifier. However, the regressor we trained in Task 1 is to predict the outcome, and overfitting might increase the loss of unseen data. Therefore, testing set is required in Task 1."
   ]
  },
  {
   "cell_type": "markdown",
   "metadata": {},
   "source": [
    "### Task 3.2\n",
    "\n",
    "Now is time to match users! You will be implementing a technique called *caliper matching*. \n",
    "\n",
    "Create pairs of users as follows. For each treated subject (here a paper that was submitted to arxiv), find a non-treated subject (a paper that was not submitted to arxiv) with similar propensity score. Namely, if the propensity score of the treated unit is $p_t$, you must find a non-treated unit $p_c$ with propensity score $|p_{c} - p_t| < \\epsilon$. If there is no such a non-treated unit, you may ignore the treated unit and move forward with the matching. Notice that your output must be a 1-to-1 matching. So each paper can only be matched once.\n",
    "\n",
    "1. Perform this matching procedure using $\\epsilon = 0.05$.\n",
    "\n",
    "\n",
    "2. Report how many pairs did you manage to match? How many didn't you?"
   ]
  },
  {
   "cell_type": "markdown",
   "metadata": {},
   "source": [
    "__3.2__"
   ]
  },
  {
   "cell_type": "code",
   "execution_count": 32,
   "metadata": {},
   "outputs": [
    {
     "name": "stdout",
     "output_type": "stream",
     "text": [
      "Number of matchings: 590\n",
      "Number of treated unit unmatched: 0\n",
      "Number of non-treated unit unmatched: 872\n",
      "Number of unit unmatched (total): 872\n"
     ]
    }
   ],
   "source": [
    "# Create new copies for treated and non-treated subjects\n",
    "publication_treated = publication_2020[publication_2020['arxiv'] == True].copy()\n",
    "publication_non_treated = publication_2020[publication_2020['arxiv'] == False].copy()\n",
    "publication_treated['treat_status'] = 'treated'\n",
    "publication_non_treated['treat_status'] = 'untreated'\n",
    "\n",
    "publication_treated.reset_index(drop = True, inplace = True)\n",
    "publication_non_treated.reset_index(drop = True, inplace = True)\n",
    "\n",
    "# Find count\n",
    "num_treated = publication_treated.shape[0]\n",
    "num_untreated = publication_non_treated.shape[0]\n",
    "\n",
    "matched_treated = []\n",
    "matched_untreated = []\n",
    "paired = []\n",
    "epsilon = 0.05\n",
    "\n",
    "# Find matching propensity scores\n",
    "for i in range(publication_treated.shape[0]):\n",
    "    for j in range(publication_non_treated.shape[0]):\n",
    "        diff =  np.abs(publication_treated.loc[i,'propensity_score'] \n",
    "                       - publication_non_treated.loc[j,'propensity_score'])\n",
    "        if diff < epsilon and j not in matched_untreated:\n",
    "            matched_treated.append(i)\n",
    "            matched_untreated.append(j)\n",
    "            paired.append((i,j,diff))\n",
    "            break\n",
    "\n",
    "# Find count\n",
    "num_matched = len(paired)\n",
    "print('Number of matchings: {}'.format(num_matched))\n",
    "print('Number of treated unit unmatched: {}'.format(num_treated-num_matched))\n",
    "print('Number of non-treated unit unmatched: {}'.format(num_untreated-num_matched))\n",
    "print('Number of unit unmatched (total): {}'.format(num_treated+num_untreated-2*num_matched))"
   ]
  },
  {
   "cell_type": "markdown",
   "metadata": {
    "pycharm": {
     "name": "#%% md\n"
    }
   },
   "source": [
    "### Task 3.3\n",
    "\n",
    "Let's evaluate your matching! There are more rigorous ways to do it, but we'll go the easy path.\n",
    "\n",
    "\n",
    "1. Using one or several appropriate plot types, visualize the distributions of the variables reputation and ratings, for treated and non-treated subjects that you matched.\n",
    "\n",
    "\n",
    "2. Visualize the distributions of these variables for all papers from 2020 that appeared on arxiv, and all papers that did not (including those you did not manage to match).\n",
    "\n",
    "\n",
    "3. **Discuss:** According to your visual analysis (no statistical tests needed here), did the matching do a good job at balancing covariates?"
   ]
  },
  {
   "cell_type": "markdown",
   "metadata": {},
   "source": [
    "__3.3.1__"
   ]
  },
  {
   "cell_type": "code",
   "execution_count": 33,
   "metadata": {
    "pycharm": {
     "name": "#%%\n"
    }
   },
   "outputs": [
    {
     "data": {
      "image/png": "[encoded data removed]",
      "text/plain": [
       "<Figure size 1080x720 with 4 Axes>"
      ]
     },
     "metadata": {
      "needs_background": "light"
     },
     "output_type": "display_data"
    }
   ],
   "source": [
    "# Create new copies for the matched publications\n",
    "publication_matched_treated = publication_treated.loc[matched_treated,:]\n",
    "publication_matched_untreated = publication_non_treated.loc[matched_untreated,:]\n",
    "\n",
    "# Set up the plot\n",
    "fig, axes = plt.subplots(2, 2, figsize=(15, 10))\n",
    "\n",
    "# Plot the ratings distribution\n",
    "sns.distplot(publication_matched_treated['ratings'], ax = axes[0,0], label = 'treated')\n",
    "sns.distplot(publication_matched_untreated['ratings'], ax = axes[0,0], label = 'untreated')\n",
    "axes[0,0].set_title('ratings distribution')\n",
    "axes[0,0].legend()\n",
    "\n",
    "# Plot the reputation distribution\n",
    "sns.distplot(publication_matched_treated['reputation'], ax = axes[0,1], label = 'treated')\n",
    "sns.distplot(publication_matched_untreated['reputation'], ax = axes[0,1], label = 'untreated')\n",
    "axes[0,1].set_title('reputation distribution')\n",
    "axes[0,1].legend()\n",
    "\n",
    "# Set up for box plots\n",
    "box_df = pd.concat( [publication_matched_treated[['ratings', 'reputation', 'treat_status']].copy(),\n",
    "                    publication_matched_untreated[['ratings', 'reputation', 'treat_status']].copy()] )\n",
    "\n",
    "# Box plot the ratings distribution\n",
    "sns.boxplot(y = 'ratings', x = 'treat_status', data = box_df, ax = axes[1,0])\n",
    "axes[1,0].set_title('ratings distribution')\n",
    "\n",
    "# Box plot the reputation distribution\n",
    "sns.boxplot(y = 'reputation', x = 'treat_status', data = box_df, ax = axes[1,1])\n",
    "axes[1,1].set_title('reputation distribution')\n",
    "\n",
    "plt.show()"
   ]
  },
  {
   "cell_type": "markdown",
   "metadata": {},
   "source": [
    "__3.3.2__"
   ]
  },
  {
   "cell_type": "code",
   "execution_count": 34,
   "metadata": {},
   "outputs": [
    {
     "data": {
      "image/png": "[encoded data removed]",
      "text/plain": [
       "<Figure size 1080x720 with 4 Axes>"
      ]
     },
     "metadata": {
      "needs_background": "light"
     },
     "output_type": "display_data"
    }
   ],
   "source": [
    "# Set up plot for arxiv vs non-arxiv distributions\n",
    "fig, axes = plt.subplots(2, 2, figsize=(15, 10))\n",
    "\n",
    "# Plot the ratings distribution\n",
    "sns.distplot(publication_treated['ratings'], ax = axes[0,0], label = 'treated')\n",
    "sns.distplot(publication_non_treated['ratings'], ax = axes[0,0], label = 'untreated')\n",
    "axes[0,0].set_title('ratings distribution')\n",
    "axes[0,0].legend()\n",
    "\n",
    "# Plot the reputation distribution\n",
    "sns.distplot(publication_treated['reputation'], ax = axes[0,1], label = 'treated')\n",
    "sns.distplot(publication_non_treated['reputation'], ax = axes[0,1], label = 'untreated')\n",
    "axes[0,1].set_title('reputation distribution')\n",
    "axes[0,1].legend()\n",
    "\n",
    "# Set up for box plots\n",
    "box_df = pd.concat( [publication_treated[['ratings', 'reputation', 'treat_status']].copy(),\n",
    "                    publication_non_treated[['ratings', 'reputation', 'treat_status']].copy()] )\n",
    "\n",
    "# Box plot the ratings distribution\n",
    "sns.boxplot(y = 'ratings', x = 'treat_status', data = box_df, ax = axes[1,0])\n",
    "axes[1,0].set_title('ratings distribution')\n",
    "\n",
    "# Box plot the reputation distribution\n",
    "sns.boxplot(y = 'reputation', x = 'treat_status', data = box_df, ax = axes[1,1])\n",
    "axes[1,1].set_title('reputation distribution')\n",
    "\n",
    "plt.show()"
   ]
  },
  {
   "cell_type": "markdown",
   "metadata": {},
   "source": [
    "__3.3.3__\n",
    "\n",
    "According to the figure, matched pair has similarity on both ratings and reputation columns. However, the distribution without matching is slightly different between treated and untreated group, especially on ratings columns. Thus, we can conclude the matching exactly balance the data to some extent.\n",
    "\n",
    "**Riccardo**: I am not sure. I would say that the reputation plot remain the same, instead the ratings plot completely change the trend. -- yes, agreed\n",
    "\n",
    "**Ray**: you are right. the reputation did not change too much according to the box plot."
   ]
  },
  {
   "cell_type": "markdown",
   "metadata": {
    "pycharm": {
     "name": "#%% md\n"
    }
   },
   "source": [
    "### Task 3.4\n",
    "\n",
    "Finally, it's time to estimate the treatment effect. Given that we have pairs of matched samples, one that received treatment and one that did not, and that they have associated outcomes $y_{treat}$ and $y_{\\neg treat}$. We can calculate the average treatment effect as:\n",
    "\n",
    "$$\n",
    "ATE = \\frac{1}{N} \\sum_i^N  y_{treat}^{(i)} - y_{\\neg treat}^{(i)}\n",
    "$$\n",
    "\n",
    "Notice that here the outcome is a simple binary variable which equals 1 if the paper has been accepted and equals 0 if the paper has been rejected, and $N$ is the total number of matched samples in our analysis.\n",
    "\n",
    "According to your matched sample, estimate the treatment effect of publishing a paper on arxiv. Report the 95% CI through bootstrapping.\n"
   ]
  },
  {
   "cell_type": "markdown",
   "metadata": {},
   "source": [
    "__3.4__"
   ]
  },
  {
   "cell_type": "code",
   "execution_count": 35,
   "metadata": {
    "pycharm": {
     "name": "#%%\n"
    }
   },
   "outputs": [
    {
     "name": "stdout",
     "output_type": "stream",
     "text": [
      "IC 95%: LB=-0.33 UB=-0.17\n"
     ]
    }
   ],
   "source": [
    "import random\n",
    "\n",
    "resample_size = 100\n",
    "resample_group = 10000\n",
    "resample_ate = []\n",
    "treatment_effect = []\n",
    "\n",
    "# Create a binary decision variable\n",
    "for i in paired:\n",
    "    te = 0\n",
    "    if publication_treated.loc[i[0], 'decisions'] == 'Accept':\n",
    "        te = 1\n",
    "    if publication_non_treated.loc[i[1], 'decisions'] == 'Accept':\n",
    "        te -= 1\n",
    "    treatment_effect.append(te)\n",
    "\n",
    "# Sample randomly\n",
    "for i in range(resample_group):\n",
    "    sampled = random.sample(treatment_effect, resample_size)\n",
    "    resample_ate.append(np.mean(sampled))\n",
    "\n",
    "resample_ate.sort()\n",
    "\n",
    "print('IC 95%: LB={} UB={}'.format(resample_ate[int(resample_group*0.025)], resample_ate[int(resample_group*0.975)]))"
   ]
  },
  {
   "cell_type": "markdown",
   "metadata": {
    "pycharm": {
     "name": "#%% md\n"
    }
   },
   "source": [
    "### Task 3.5\n",
    "\n",
    "Wait, but what about prestigious institutions? \n",
    "\n",
    "1.  To understand what is going on there, repeat tasks 3.2 to 3.4 considering *only* the top 10 institutions. Notice that you can use the same propensity scores and re-do the steps in a reduced dataframe containing only top-institutions.\n",
    "\n",
    "\n",
    "2. **Discuss:** Is this evidence that arxiv breaks double-blind submissions?"
   ]
  },
  {
   "cell_type": "markdown",
   "metadata": {},
   "source": [
    "__3.5.1__"
   ]
  },
  {
   "cell_type": "code",
   "execution_count": 36,
   "metadata": {
    "pycharm": {
     "name": "#%%\n"
    }
   },
   "outputs": [
    {
     "name": "stdout",
     "output_type": "stream",
     "text": [
      "Number of matchings: 657\n",
      "Number of treated unit unmatched: 738\n",
      "Number of non-treated unit unmatched: 0\n",
      "Number of unit unmatched (total): 738\n"
     ]
    }
   ],
   "source": [
    "# Create new copies for treated and untreated publications in top institutions \n",
    "publication_treated = publication_2020[publication_2020['has_top_institution'] == True].copy()\n",
    "publication_non_treated = publication_2020[publication_2020['has_top_institution'] == False].copy()\n",
    "publication_treated['treat_status'] = 'treated'\n",
    "publication_non_treated['treat_status'] = 'untreated'\n",
    "\n",
    "publication_treated.reset_index(drop = True, inplace = True)\n",
    "publication_non_treated.reset_index(drop = True, inplace = True)\n",
    "\n",
    "# Find count\n",
    "num_treated = publication_treated.shape[0]\n",
    "num_untreated = publication_non_treated.shape[0]\n",
    "\n",
    "matched_treated = []\n",
    "matched_untreated = []\n",
    "paired = []\n",
    "epsilon = 0.05\n",
    "\n",
    "# Find matching propensity scores\n",
    "for i in range(publication_treated.shape[0]):\n",
    "    for j in range(publication_non_treated.shape[0]):\n",
    "        diff =  np.abs(publication_treated.loc[i,'propensity_score'] \n",
    "                       - publication_non_treated.loc[j,'propensity_score'])\n",
    "        if diff < epsilon and j not in matched_untreated:\n",
    "            matched_treated.append(i)\n",
    "            matched_untreated.append(j)\n",
    "            paired.append((i,j,diff))\n",
    "            break\n",
    "\n",
    "num_matched = len(paired)\n",
    "print('Number of matchings: {}'.format(num_matched))\n",
    "print('Number of treated unit unmatched: {}'.format(num_treated-num_matched))\n",
    "print('Number of non-treated unit unmatched: {}'.format(num_untreated-num_matched))\n",
    "print('Number of unit unmatched (total): {}'.format(num_treated+num_untreated-2*num_matched))"
   ]
  },
  {
   "cell_type": "code",
   "execution_count": 37,
   "metadata": {},
   "outputs": [
    {
     "data": {
      "image/png": "[encoded data removed]",
      "text/plain": [
       "<Figure size 1080x720 with 4 Axes>"
      ]
     },
     "metadata": {
      "needs_background": "light"
     },
     "output_type": "display_data"
    }
   ],
   "source": [
    "publication_matched_treated = publication_treated.loc[matched_treated,:]\n",
    "publication_matched_untreated = publication_non_treated.loc[matched_untreated,:]\n",
    "\n",
    "# Set up the plot\n",
    "fig, axes = plt.subplots(2, 2, figsize=(15, 10))\n",
    "\n",
    "# Plot the ratings distribution\n",
    "sns.distplot(publication_matched_treated['ratings'], ax = axes[0,0], label = 'treated')\n",
    "sns.distplot(publication_matched_untreated['ratings'], ax = axes[0,0], label = 'untreated')\n",
    "axes[0,0].set_title('ratings distribution')\n",
    "axes[0,0].legend()\n",
    "\n",
    "# Plot the reputation distribution\n",
    "sns.distplot(publication_matched_treated['reputation'], ax = axes[0,1], label = 'treated')\n",
    "sns.distplot(publication_matched_untreated['reputation'], ax = axes[0,1], label = 'untreated')\n",
    "axes[0,1].set_title('reputation distribution')\n",
    "axes[0,1].legend()\n",
    "\n",
    "# Set up for box plots\n",
    "box_df = pd.concat( [publication_matched_treated[['ratings', 'reputation', 'treat_status']].copy(),\n",
    "                    publication_matched_untreated[['ratings', 'reputation', 'treat_status']].copy()] )\n",
    "\n",
    "# Box plot the ratings distribution\n",
    "sns.boxplot(y = 'ratings', x = 'treat_status', data = box_df, ax = axes[1,0])\n",
    "axes[1,0].set_title('ratings distribution')\n",
    "\n",
    "# Box plot the reputation distribution\n",
    "sns.boxplot(y = 'reputation', x = 'treat_status', data = box_df, ax = axes[1,1])\n",
    "axes[1,1].set_title('reputation distribution')\n",
    "\n",
    "plt.show()"
   ]
  },
  {
   "cell_type": "code",
   "execution_count": 38,
   "metadata": {},
   "outputs": [
    {
     "data": {
      "image/png": "[encoded data removed]",
      "text/plain": [
       "<Figure size 1080x720 with 4 Axes>"
      ]
     },
     "metadata": {
      "needs_background": "light"
     },
     "output_type": "display_data"
    }
   ],
   "source": [
    "# Set up the plot for arxiv vs non-arxiv publications ----- CORRECT ME IF I AM WRONG\n",
    "fig, axes = plt.subplots(2, 2, figsize=(15, 10))\n",
    "\n",
    "# Plot the ratings distribution\n",
    "sns.distplot(publication_treated['ratings'], ax = axes[0,0], label = 'treated')\n",
    "sns.distplot(publication_non_treated['ratings'], ax = axes[0,0], label = 'untreated')\n",
    "axes[0,0].set_title('ratings distribution')\n",
    "axes[0,0].legend()\n",
    "\n",
    "# Plot the reputation distribution\n",
    "sns.distplot(publication_treated['reputation'], ax = axes[0,1], label = 'treated')\n",
    "sns.distplot(publication_non_treated['reputation'], ax = axes[0,1], label = 'untreated')\n",
    "axes[0,1].set_title('reputation distribution')\n",
    "axes[0,1].legend()\n",
    "\n",
    "# Set up for box plots\n",
    "box_df = pd.concat( [publication_treated[['ratings', 'reputation', 'treat_status']].copy(),\n",
    "                    publication_non_treated[['ratings', 'reputation', 'treat_status']].copy()] )\n",
    "\n",
    "# Box plot the ratings distribution\n",
    "sns.boxplot(y = 'ratings', x = 'treat_status', data = box_df, ax = axes[1,0])\n",
    "axes[1,0].set_title('ratings distribution')\n",
    "\n",
    "# Box plot the reputation distribution\n",
    "sns.boxplot(y = 'reputation', x = 'treat_status', data = box_df, ax = axes[1,1])\n",
    "axes[1,1].set_title('reputation distribution')\n",
    "\n",
    "plt.show()"
   ]
  },
  {
   "cell_type": "code",
   "execution_count": 39,
   "metadata": {},
   "outputs": [
    {
     "name": "stdout",
     "output_type": "stream",
     "text": [
      "IC 95%: LB=0.15 UB=0.3\n"
     ]
    }
   ],
   "source": [
    "resample_size = 100\n",
    "resample_group = 10000\n",
    "resample_ate = []\n",
    "treatment_effect = []\n",
    "\n",
    "# Create a binary decision variable\n",
    "for i in paired:\n",
    "    te = 0\n",
    "    if publication_treated.loc[i[0], 'decisions'] == 'Accept':\n",
    "        te = 1\n",
    "    if publication_non_treated.loc[i[1], 'decisions'] == 'Accept':\n",
    "        te -= 1\n",
    "    treatment_effect.append(te)\n",
    "\n",
    "# Sample randomly\n",
    "for i in range(resample_group):\n",
    "    sampled = random.sample(treatment_effect, resample_size)\n",
    "    resample_ate.append(np.mean(sampled))\n",
    "\n",
    "resample_ate.sort()\n",
    "\n",
    "print('IC 95%: LB={} UB={}'.format(resample_ate[int(resample_group*0.025)], resample_ate[int(resample_group*0.975)]))"
   ]
  },
  {
   "cell_type": "markdown",
   "metadata": {},
   "source": [
    "__3.5.2__\n",
    "\n",
    "There is evidence that arxiv breaks double-blind submissions, in fact ...\n",
    "**Riccardo**: (before to argue this answer I would like to plot the box plots)"
   ]
  }
 ],
 "metadata": {
  "kernelspec": {
   "display_name": "Python 3",
   "language": "python",
   "name": "python3"
  },
  "language_info": {
   "codemirror_mode": {
    "name": "ipython",
    "version": 3
   },
   "file_extension": ".py",
   "mimetype": "text/x-python",
   "name": "python",
   "nbconvert_exporter": "python",
   "pygments_lexer": "ipython3",
   "version": "3.8.3"
  },
  "pycharm": {
   "stem_cell": {
    "cell_type": "raw",
    "metadata": {
     "collapsed": false
    },
    "source": []
   }
  }
 },
 "nbformat": 4,
 "nbformat_minor": 4
}
